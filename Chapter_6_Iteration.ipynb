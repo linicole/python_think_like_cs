{
 "cells": [
  {
   "cell_type": "markdown",
   "metadata": {},
   "source": [
    "### Multiple assignment"
   ]
  },
  {
   "cell_type": "markdown",
   "metadata": {},
   "source": [
    "* Equality is symmetric and assignment is not. \n",
    "* In mathematics, a statement of equality is always true. In Python, an assignment statement can make two variables equal, but they don’t have to stay that way."
   ]
  },
  {
   "cell_type": "code",
   "execution_count": 2,
   "metadata": {},
   "outputs": [
    {
     "data": {
      "text/plain": [
       "5"
      ]
     },
     "execution_count": 2,
     "metadata": {},
     "output_type": "execute_result"
    }
   ],
   "source": [
    "a = 5\n",
    "b = a    # a and b are now equal\n",
    "a = 3    # a and b are no longer equal\n",
    "b"
   ]
  },
  {
   "cell_type": "markdown",
   "metadata": {},
   "source": [
    "  "
   ]
  },
  {
   "cell_type": "markdown",
   "metadata": {},
   "source": [
    "### Updating variables\n",
    "where the new value of the variable depends on the old"
   ]
  },
  {
   "cell_type": "markdown",
   "metadata": {},
   "source": [
    "  "
   ]
  },
  {
   "cell_type": "markdown",
   "metadata": {},
   "source": [
    " "
   ]
  },
  {
   "cell_type": "markdown",
   "metadata": {},
   "source": [
    "### The \"while\" statement"
   ]
  },
  {
   "cell_type": "markdown",
   "metadata": {},
   "source": [
    "1. Evaluate the condition, yielding False or True.\n",
    "2. If the condition is false, exit the while statement and continue execution at the next statement.\n",
    "3. If the condition is true, execute each of the statements in the body and then go back to step 1.\n",
    "\n",
    "##### Infinite Loop\n",
    "The interesting question is whether we can prove that the following program terminates for all values of n. So far, no one has been able to prove it or disprove it!"
   ]
  },
  {
   "cell_type": "code",
   "execution_count": 4,
   "metadata": {},
   "outputs": [],
   "source": [
    "def sequence(n):\n",
    "    while n != 1:\n",
    "        print(n)\n",
    "        if n % 2 == 0:        # n is even\n",
    "            n = n / 2\n",
    "        else:                 # n is odd\n",
    "            n = n * 3 + 1"
   ]
  },
  {
   "cell_type": "markdown",
   "metadata": {},
   "source": [
    "   "
   ]
  },
  {
   "cell_type": "markdown",
   "metadata": {},
   "source": [
    "  "
   ]
  },
  {
   "cell_type": "markdown",
   "metadata": {},
   "source": [
    "### Counting Digits"
   ]
  },
  {
   "cell_type": "code",
   "execution_count": 13,
   "metadata": {},
   "outputs": [
    {
     "data": {
      "text/plain": [
       "3"
      ]
     },
     "execution_count": 13,
     "metadata": {},
     "output_type": "execute_result"
    }
   ],
   "source": [
    "def num_digits(n):\n",
    "    count = 0\n",
    "    while n:         # bool(0) = False\n",
    "        count += 1\n",
    "        n = n // 10  # \"/\" will include decimal in the result.\n",
    "    return count\n",
    "\n",
    "num_digits(753)"
   ]
  },
  {
   "cell_type": "markdown",
   "metadata": {},
   "source": [
    "Abbreviated Assignment: \n",
    "* +=\n",
    "* -=\n",
    "* *=\n",
    "* /="
   ]
  },
  {
   "cell_type": "markdown",
   "metadata": {},
   "source": [
    "  "
   ]
  },
  {
   "cell_type": "markdown",
   "metadata": {},
   "source": [
    "### Tables"
   ]
  },
  {
   "cell_type": "code",
   "execution_count": 14,
   "metadata": {},
   "outputs": [
    {
     "name": "stdout",
     "output_type": "stream",
     "text": [
      "1 \t 2\n",
      "2 \t 4\n",
      "3 \t 8\n",
      "4 \t 16\n",
      "5 \t 32\n",
      "6 \t 64\n",
      "7 \t 128\n",
      "8 \t 256\n",
      "9 \t 512\n",
      "10 \t 1024\n",
      "11 \t 2048\n",
      "12 \t 4096\n"
     ]
    }
   ],
   "source": [
    "x = 1\n",
    "while x < 13:\n",
    "    print(x, '\\t', 2**x)\n",
    "    x += 1"
   ]
  },
  {
   "cell_type": "markdown",
   "metadata": {},
   "source": [
    "  "
   ]
  },
  {
   "cell_type": "markdown",
   "metadata": {},
   "source": [
    "### Encapsulation and generalization"
   ]
  },
  {
   "cell_type": "code",
   "execution_count": 27,
   "metadata": {},
   "outputs": [
    {
     "name": "stdout",
     "output_type": "stream",
     "text": [
      "1 \t2 \t3 \t4 \t5 \t\n",
      "2 \t4 \t6 \t8 \t10 \t\n",
      "3 \t6 \t9 \t12 \t15 \t\n",
      "4 \t8 \t12 \t16 \t20 \t\n",
      "5 \t10 \t15 \t20 \t25 \t\n"
     ]
    }
   ],
   "source": [
    "def print_multiples(n):\n",
    "    i = 1\n",
    "    while i < 6:\n",
    "        print(n * i, '\\t', end=\"\")  # end=\"\": make the printing result in a single line\n",
    "        i += 1\n",
    "    print()  # this will start a new line when a full vector is finishe in the process below\n",
    "    \n",
    "j = 1\n",
    "while j < 6:\n",
    "    print_multiples(j)\n",
    "    j  += 1"
   ]
  },
  {
   "cell_type": "markdown",
   "metadata": {},
   "source": [
    "##### More Generalization "
   ]
  },
  {
   "cell_type": "code",
   "execution_count": 44,
   "metadata": {},
   "outputs": [
    {
     "name": "stdout",
     "output_type": "stream",
     "text": [
      "1 \t2 \t3 \t4 \t5 \t6 \t\n",
      "2 \t4 \t6 \t8 \t10 \t12 \t\n",
      "3 \t6 \t9 \t12 \t15 \t18 \t\n",
      "4 \t8 \t12 \t16 \t20 \t24 \t\n",
      "5 \t10 \t15 \t20 \t25 \t30 \t\n",
      "6 \t12 \t18 \t24 \t30 \t36 \t\n"
     ]
    }
   ],
   "source": [
    "def print_multiples(n, nrow): # step 3: add the augment position for ncol\n",
    "    i = 1\n",
    "    while i <= nrow:\n",
    "        print(n*i, '\\t', end=\"\")\n",
    "        i += 1\n",
    "    print()\n",
    "\n",
    "def print_mult_table(nrow):  # step 1: define how many rows\n",
    "    j = 1\n",
    "    while j <= nrow:\n",
    "        print_multiples(j, nrow) # step 2: to align with nrow, add an augment for ncol\n",
    "        j += 1\n",
    "\n",
    "print_mult_table(6)"
   ]
  },
  {
   "cell_type": "code",
   "execution_count": 48,
   "metadata": {},
   "outputs": [
    {
     "name": "stdout",
     "output_type": "stream",
     "text": [
      "1 \t\n",
      "2 \t4 \t\n",
      "3 \t6 \t9 \t\n",
      "4 \t8 \t12 \t16 \t\n",
      "5 \t10 \t15 \t20 \t25 \t\n",
      "6 \t12 \t18 \t24 \t30 \t36 \t\n"
     ]
    }
   ],
   "source": [
    "def print_multiples_2(ncol): # step 3: add the augment position for ncol \n",
    "    i = 1\n",
    "    while i <= ncol:\n",
    "        print(ncol*i, '\\t', end=\"\")  # step 4: the last col should be ncol**2 = ncol*ncol = ncol*i\n",
    "        i += 1\n",
    "    print()\n",
    "    \n",
    "def print_mult_table_2(nrow):  # step 1: define how many rows\n",
    "    j = 1\n",
    "    while j <= nrow:\n",
    "        print_multiples_2(j) # step 2: no need to related to nrow\n",
    "        j += 1\n",
    "\n",
    "print_mult_table_2(6)"
   ]
  },
  {
   "cell_type": "markdown",
   "metadata": {},
   "source": [
    "  "
   ]
  },
  {
   "cell_type": "markdown",
   "metadata": {},
   "source": [
    " "
   ]
  },
  {
   "cell_type": "markdown",
   "metadata": {},
   "source": [
    "### Newton's Method"
   ]
  },
  {
   "cell_type": "markdown",
   "metadata": {},
   "source": [
    "To get a Square Root of n, if you start with almost any approximation, you can compute a better approximation with the following formula:\n",
    "* better_approx =  (approx + n/approx)/2.0"
   ]
  },
  {
   "cell_type": "code",
   "execution_count": 51,
   "metadata": {
    "collapsed": true
   },
   "outputs": [],
   "source": [
    "def mysqrt(n):\n",
    "    approx = n / 2\n",
    "    better = (approx + n/approx)/2\n",
    "    while better != approx:\n",
    "        approx = better\n",
    "        better = (approx + n/approx)/2\n",
    "    print(better)"
   ]
  },
  {
   "cell_type": "code",
   "execution_count": 54,
   "metadata": {},
   "outputs": [
    {
     "name": "stdout",
     "output_type": "stream",
     "text": [
      "5.0\n"
     ]
    }
   ],
   "source": [
    "mysqrt(25)"
   ]
  },
  {
   "cell_type": "markdown",
   "metadata": {},
   "source": [
    "  "
   ]
  },
  {
   "cell_type": "markdown",
   "metadata": {},
   "source": [
    "  "
   ]
  },
  {
   "cell_type": "markdown",
   "metadata": {},
   "source": [
    "### Algorithm\n",
    "One of the characteristics of algorithms is that they do not require any intelligence to carry out. They are mechanical processes in which each step follows from the last according to a simple set of rules."
   ]
  },
  {
   "cell_type": "markdown",
   "metadata": {},
   "source": [
    "  "
   ]
  },
  {
   "cell_type": "markdown",
   "metadata": {},
   "source": [
    "  "
   ]
  },
  {
   "cell_type": "markdown",
   "metadata": {},
   "source": [
    "### Exercise"
   ]
  },
  {
   "cell_type": "markdown",
   "metadata": {},
   "source": [
    "##### 1 "
   ]
  },
  {
   "cell_type": "code",
   "execution_count": 57,
   "metadata": {},
   "outputs": [
    {
     "name": "stdout",
     "output_type": "stream",
     "text": [
      "produces\n",
      "this\n",
      "output.\n"
     ]
    }
   ],
   "source": [
    "simple_str = \"\"\"produces\n",
    "this\n",
    "output.\"\"\"\n",
    "print(simple_str)"
   ]
  },
  {
   "cell_type": "markdown",
   "metadata": {},
   "source": [
    "##### 2 "
   ]
  },
  {
   "cell_type": "code",
   "execution_count": 68,
   "metadata": {},
   "outputs": [
    {
     "name": "stdout",
     "output_type": "stream",
     "text": [
      "7.25\n",
      "5.349137931034482\n",
      "5.011394106532552\n",
      "5.000012953048684\n",
      "5.000000000016778\n",
      "5.0\n"
     ]
    }
   ],
   "source": [
    "def mysqrt2(n):\n",
    "    approx = n/2\n",
    "    better = (approx + n/approx)/2\n",
    "    while better != approx:\n",
    "        print(better)\n",
    "        approx = better\n",
    "        better = (approx + n/approx)/2\n",
    "\n",
    "mysqrt2(25)"
   ]
  },
  {
   "cell_type": "markdown",
   "metadata": {},
   "source": [
    "##### 4"
   ]
  },
  {
   "cell_type": "markdown",
   "metadata": {},
   "source": [
    "Write a function print_triangular_numbers(n) that prints out the first n triangular numbers."
   ]
  },
  {
   "cell_type": "code",
   "execution_count": 77,
   "metadata": {},
   "outputs": [
    {
     "name": "stdout",
     "output_type": "stream",
     "text": [
      "1 \t 1\n",
      "2 \t 3\n",
      "3 \t 6\n",
      "4 \t 10\n",
      "5 \t 15\n",
      "\n"
     ]
    }
   ],
   "source": [
    "def print_triangular_numbers(n):\n",
    "    tri_num = 0\n",
    "    for i in range(1,n+1):\n",
    "        tri_num += i\n",
    "        print(i, '\\t', tri_num, end=\"\\n\")\n",
    "    print()\n",
    "    \n",
    "print_triangular_numbers(5)"
   ]
  },
  {
   "cell_type": "markdown",
   "metadata": {},
   "source": [
    "##### 5 "
   ]
  },
  {
   "cell_type": "markdown",
   "metadata": {},
   "source": [
    "* Method 1: Only test **prime numbers** smaller than the number you are testing as possible factors.\n",
    "* Method 2: Only try to find the **smaller factor** whose largest value is the square root of n."
   ]
  },
  {
   "cell_type": "code",
   "execution_count": 87,
   "metadata": {},
   "outputs": [
    {
     "data": {
      "text/plain": [
       "'This is not a prime number.'"
      ]
     },
     "execution_count": 87,
     "metadata": {},
     "output_type": "execute_result"
    }
   ],
   "source": [
    "def if_prime_num(n):\n",
    "    if n <= 1:\n",
    "        return \"This is not a prime number.\"\n",
    "    else:\n",
    "        i = 2\n",
    "        while i < int(n**0.5):\n",
    "            m = n % i\n",
    "            if m == 0:\n",
    "                return \"This is not a prime number.\"\n",
    "            else:\n",
    "                i += 1\n",
    "        return \"This is a prime number.\"\n",
    "          \n",
    "if_prime_num(111)"
   ]
  },
  {
   "cell_type": "markdown",
   "metadata": {},
   "source": [
    "  "
   ]
  },
  {
   "cell_type": "markdown",
   "metadata": {},
   "source": [
    "##### 6"
   ]
  },
  {
   "cell_type": "code",
   "execution_count": 104,
   "metadata": {},
   "outputs": [
    {
     "data": {
      "text/plain": [
       "5"
      ]
     },
     "execution_count": 104,
     "metadata": {},
     "output_type": "execute_result"
    }
   ],
   "source": [
    "# Why does an input of 0 return 0?\n",
    "\n",
    "def num_digits(n):\n",
    "    if n == 0:\n",
    "        return None\n",
    "    else:\n",
    "        n = abs(n)\n",
    "        count = 0\n",
    "        while n:         # bool(0) = False\n",
    "            count += 1\n",
    "            n = n // 10  # \"/\" will include decimal in the result.\n",
    "        return count\n",
    "\n",
    "num_digits(-12345)"
   ]
  },
  {
   "cell_type": "markdown",
   "metadata": {},
   "source": [
    "  "
   ]
  },
  {
   "cell_type": "markdown",
   "metadata": {},
   "source": [
    "##### 7"
   ]
  },
  {
   "cell_type": "code",
   "execution_count": 113,
   "metadata": {},
   "outputs": [
    {
     "name": "stdout",
     "output_type": "stream",
     "text": [
      "2\n"
     ]
    }
   ],
   "source": [
    "def num_even_digits(n):\n",
    "    n = abs(n)\n",
    "    count = 0\n",
    "    while n:\n",
    "        digit = n % 10\n",
    "        if digit % 2 == 0:\n",
    "            count += 1\n",
    "        n = n // 10\n",
    "    print(count)\n",
    "    \n",
    "num_even_digits(20)"
   ]
  },
  {
   "cell_type": "markdown",
   "metadata": {},
   "source": [
    "  "
   ]
  },
  {
   "cell_type": "markdown",
   "metadata": {},
   "source": [
    "##### 8"
   ]
  },
  {
   "cell_type": "code",
   "execution_count": 117,
   "metadata": {},
   "outputs": [
    {
     "data": {
      "text/plain": [
       "0"
      ]
     },
     "execution_count": 117,
     "metadata": {},
     "output_type": "execute_result"
    }
   ],
   "source": [
    "0%10"
   ]
  },
  {
   "cell_type": "code",
   "execution_count": 124,
   "metadata": {},
   "outputs": [
    {
     "name": "stdout",
     "output_type": "stream",
     "text": [
      "1 4 1 3 1 2 "
     ]
    }
   ],
   "source": [
    "def print_digits(n):\n",
    "    n = abs(n)\n",
    "    while n:\n",
    "        print(n%10, end=\" \")\n",
    "        n = n // 10\n",
    "    return None\n",
    "\n",
    "print_digits(213141)"
   ]
  },
  {
   "cell_type": "markdown",
   "metadata": {},
   "source": [
    "  "
   ]
  },
  {
   "cell_type": "markdown",
   "metadata": {},
   "source": [
    "##### 9"
   ]
  },
  {
   "cell_type": "code",
   "execution_count": 130,
   "metadata": {},
   "outputs": [
    {
     "name": "stdout",
     "output_type": "stream",
     "text": [
      "194\n"
     ]
    }
   ],
   "source": [
    "def sum_of_squares_of_digits(n):\n",
    "    n = abs(n)\n",
    "    dsum = 0\n",
    "    while n:\n",
    "        dsum += (n%10)**2\n",
    "        n = n // 10\n",
    "    print(dsum)\n",
    "\n",
    "sum_of_squares_of_digits(987)"
   ]
  },
  {
   "cell_type": "markdown",
   "metadata": {},
   "source": [
    "   "
   ]
  }
 ],
 "metadata": {
  "kernelspec": {
   "display_name": "Python 3",
   "language": "python",
   "name": "python3"
  },
  "language_info": {
   "codemirror_mode": {
    "name": "ipython",
    "version": 3
   },
   "file_extension": ".py",
   "mimetype": "text/x-python",
   "name": "python",
   "nbconvert_exporter": "python",
   "pygments_lexer": "ipython3",
   "version": "3.6.3"
  }
 },
 "nbformat": 4,
 "nbformat_minor": 2
}
