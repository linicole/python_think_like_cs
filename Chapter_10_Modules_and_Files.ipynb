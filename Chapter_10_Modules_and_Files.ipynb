{
 "cells": [
  {
   "cell_type": "markdown",
   "metadata": {
    "collapsed": true
   },
   "source": [
    "## Strings and Lists Methods"
   ]
  },
  {
   "cell_type": "markdown",
   "metadata": {},
   "source": [
    "###### 1. String"
   ]
  },
  {
   "cell_type": "code",
   "execution_count": 5,
   "metadata": {},
   "outputs": [
    {
     "name": "stdout",
     "output_type": "stream",
     "text": [
      "Maryland\n",
      "What'S All This, Then, Amen?\n",
      "ANGOLA\n"
     ]
    }
   ],
   "source": [
    "print('maryland'.capitalize())\n",
    "print(\"What's all this, then, amen?\".title())\n",
    "print('angola'.upper())"
   ]
  },
  {
   "cell_type": "markdown",
   "metadata": {},
   "source": [
    "###### 2. List"
   ]
  },
  {
   "cell_type": "code",
   "execution_count": 14,
   "metadata": {},
   "outputs": [
    {
     "data": {
      "text/plain": [
       "[5, 27, 3, 12]"
      ]
     },
     "execution_count": 14,
     "metadata": {},
     "output_type": "execute_result"
    }
   ],
   "source": [
    "mylist = []\n",
    "mylist.append(5)\n",
    "mylist.append(27)\n",
    "mylist.append(3)\n",
    "mylist.append(12)\n",
    "mylist"
   ]
  },
  {
   "cell_type": "code",
   "execution_count": 15,
   "metadata": {},
   "outputs": [
    {
     "data": {
      "text/plain": [
       "[5, 12, 27, 3, 12]"
      ]
     },
     "execution_count": 15,
     "metadata": {},
     "output_type": "execute_result"
    }
   ],
   "source": [
    "# lst.insert(index, content)\n",
    "mylist.insert(1, 12)\n",
    "mylist"
   ]
  },
  {
   "cell_type": "code",
   "execution_count": 16,
   "metadata": {},
   "outputs": [
    {
     "data": {
      "text/plain": [
       "2"
      ]
     },
     "execution_count": 16,
     "metadata": {},
     "output_type": "execute_result"
    }
   ],
   "source": [
    "# lst.count(obj)\n",
    "mylist.count(12)"
   ]
  },
  {
   "cell_type": "code",
   "execution_count": 17,
   "metadata": {},
   "outputs": [
    {
     "data": {
      "text/plain": [
       "[5, 12, 27, 3, 12, 5, 9, 5, 11]"
      ]
     },
     "execution_count": 17,
     "metadata": {},
     "output_type": "execute_result"
    }
   ],
   "source": [
    "mylist.extend([5, 9, 5, 11])\n",
    "mylist"
   ]
  },
  {
   "cell_type": "code",
   "execution_count": 20,
   "metadata": {},
   "outputs": [
    {
     "data": {
      "text/plain": [
       "0"
      ]
     },
     "execution_count": 20,
     "metadata": {},
     "output_type": "execute_result"
    }
   ],
   "source": [
    "mylist.index(5) # the first appearance of the object"
   ]
  },
  {
   "cell_type": "code",
   "execution_count": 21,
   "metadata": {},
   "outputs": [
    {
     "data": {
      "text/plain": [
       "[11, 5, 9, 5, 12, 3, 27, 12, 5]"
      ]
     },
     "execution_count": 21,
     "metadata": {},
     "output_type": "execute_result"
    }
   ],
   "source": [
    "mylist.reverse()\n",
    "mylist"
   ]
  },
  {
   "cell_type": "code",
   "execution_count": 22,
   "metadata": {},
   "outputs": [
    {
     "data": {
      "text/plain": [
       "[3, 5, 5, 5, 9, 11, 12, 12, 27]"
      ]
     },
     "execution_count": 22,
     "metadata": {},
     "output_type": "execute_result"
    }
   ],
   "source": [
    "mylist.sort()\n",
    "mylist"
   ]
  },
  {
   "cell_type": "code",
   "execution_count": 23,
   "metadata": {},
   "outputs": [
    {
     "data": {
      "text/plain": [
       "[3, 5, 5, 9, 11, 12, 12, 27]"
      ]
     },
     "execution_count": 23,
     "metadata": {},
     "output_type": "execute_result"
    }
   ],
   "source": [
    "mylist.remove(5) # remove the first appearance in the list\n",
    "mylist"
   ]
  },
  {
   "cell_type": "code",
   "execution_count": 19,
   "metadata": {},
   "outputs": [
    {
     "name": "stdout",
     "output_type": "stream",
     "text": [
      "['a', 'b', 'c', 'd', 'new']\n",
      "['a', 'b', 'c', 'd', 'new', 'n', 'e', 'w']\n"
     ]
    }
   ],
   "source": [
    "myotherlist = ['a','b','c','d']\n",
    "myotherlist.append('new')\n",
    "print(myotherlist)\n",
    "myotherlist.extend('new')\n",
    "print(myotherlist)"
   ]
  },
  {
   "cell_type": "markdown",
   "metadata": {},
   "source": [
    "  "
   ]
  },
  {
   "cell_type": "markdown",
   "metadata": {},
   "source": [
    "  "
   ]
  },
  {
   "cell_type": "markdown",
   "metadata": {},
   "source": [
    "## Reading and writing text files"
   ]
  },
  {
   "cell_type": "markdown",
   "metadata": {},
   "source": [
    "While a program is running, its data is stored in the Random Access Memory (RAM) which is volatile. But when the program ends or the computer is shutdown, data in RAM disappeard. "
   ]
  },
  {
   "cell_type": "code",
   "execution_count": 24,
   "metadata": {
    "collapsed": true
   },
   "outputs": [],
   "source": [
    "# Opening the file for writing --> open(file_name, mode)\n",
    "myfile = open('test.dat', 'w')\n",
    "\n",
    "# Write something into the file\n",
    "myfile.write(\"Now is the time\")\n",
    "myfile.write(\"to close the file\")\n",
    "\n",
    "# Closing the file tells the system that we are done writing and makes the file available for reading.\n",
    "myfile.close()"
   ]
  },
  {
   "cell_type": "code",
   "execution_count": 31,
   "metadata": {},
   "outputs": [
    {
     "name": "stdout",
     "output_type": "stream",
     "text": [
      "Now is the timeto close the file\n",
      "Now i\n"
     ]
    }
   ],
   "source": [
    "# Opening the file to read\n",
    "myfile = open('test.dat', 'r')\n",
    "text = myfile.read()\n",
    "print(text)\n",
    "\n",
    "myfile = open('test.dat', 'r')\n",
    "text = myfile.read(5) # indicates how many characters to read\n",
    "print(text)"
   ]
  },
  {
   "cell_type": "markdown",
   "metadata": {},
   "source": [
    "##### Function to Copy a File"
   ]
  },
  {
   "cell_type": "code",
   "execution_count": 32,
   "metadata": {
    "collapsed": true
   },
   "outputs": [],
   "source": [
    "def copy_file(oldfile, newfile):\n",
    "    infile = open(oldfile, 'r')\n",
    "    outfile = open(newfile, 'w')\n",
    "    while True:\n",
    "        text = infile.read(50) # read 50 characters each time\n",
    "        if text == \"\": \n",
    "            break      # if there is nothing left, then break the \"while\" loop\n",
    "        outfile.write(text)\n",
    "    infile.close()\n",
    "    outfile.close()\n",
    "    return  # to end this program\n"
   ]
  },
  {
   "cell_type": "markdown",
   "metadata": {},
   "source": [
    "  "
   ]
  },
  {
   "cell_type": "markdown",
   "metadata": {},
   "source": [
    "  "
   ]
  },
  {
   "cell_type": "markdown",
   "metadata": {},
   "source": [
    "## Text Files"
   ]
  },
  {
   "cell_type": "markdown",
   "metadata": {},
   "source": [
    "A text file is a file that contains printable characters and whitespace, organized into lines separated by newline characters."
   ]
  },
  {
   "cell_type": "code",
   "execution_count": 39,
   "metadata": {},
   "outputs": [],
   "source": [
    "outfile = open('test.dat', 'w')\n",
    "outfile.write(\"line one\\nline two\\nline three\\n\")\n",
    "outfile.close()"
   ]
  },
  {
   "cell_type": "code",
   "execution_count": 44,
   "metadata": {},
   "outputs": [
    {
     "name": "stdout",
     "output_type": "stream",
     "text": [
      "line one\n",
      "\n",
      "['line two\\n', 'line three\\n']\n"
     ]
    }
   ],
   "source": [
    "infile = open('test.dat', 'r')\n",
    "\n",
    "print(infile.readline())  # readline:  returns 1 next line as a string \n",
    "print(infile.readlines()) # readlines: returns all the lines as a list of strings"
   ]
  },
  {
   "cell_type": "code",
   "execution_count": 47,
   "metadata": {},
   "outputs": [
    {
     "name": "stdout",
     "output_type": "stream",
     "text": [
      "\n",
      "[]\n"
     ]
    }
   ],
   "source": [
    "# When nothing remains, readline returns an empty string, while readlines returns an empty list.\n",
    "print(infile.readline())\n",
    "print(infile.readlines())"
   ]
  },
  {
   "cell_type": "markdown",
   "metadata": {},
   "source": [
    "##### Function to copy a file while filter out lines beginning with #"
   ]
  },
  {
   "cell_type": "code",
   "execution_count": 48,
   "metadata": {
    "collapsed": true
   },
   "outputs": [],
   "source": [
    "def filter(oldfile, newfile):\n",
    "    infile = open(oldfile, 'r')\n",
    "    outfile = open(newfile, 'w')\n",
    "    while True:\n",
    "        text = infile.readline()\n",
    "        if text == '':\n",
    "            break\n",
    "        if text[0] == '#':\n",
    "            continue\n",
    "        outfile.write(text)\n",
    "    infile.close()\n",
    "    outfile.close()\n",
    "    return"
   ]
  },
  {
   "cell_type": "markdown",
   "metadata": {},
   "source": [
    "  "
   ]
  },
  {
   "cell_type": "markdown",
   "metadata": {},
   "source": [
    "  "
   ]
  },
  {
   "cell_type": "markdown",
   "metadata": {},
   "source": [
    "  "
   ]
  },
  {
   "cell_type": "markdown",
   "metadata": {},
   "source": [
    "## Counting Letters"
   ]
  },
  {
   "cell_type": "markdown",
   "metadata": {},
   "source": [
    "##### ORD\n",
    "The \"ord\" function returns the integer representation of a character."
   ]
  },
  {
   "cell_type": "code",
   "execution_count": 50,
   "metadata": {},
   "outputs": [
    {
     "name": "stdout",
     "output_type": "stream",
     "text": [
      "65 97 90 122\n"
     ]
    }
   ],
   "source": [
    "print(ord('A'), ord('a'), ord('Z'), ord('z'))  # this is why Upper case < Lower case"
   ]
  },
  {
   "cell_type": "markdown",
   "metadata": {},
   "source": [
    "##### CHR\n",
    "The chr function is the inverse of ord. It takes an integer as an argument and returns its character representation."
   ]
  },
  {
   "cell_type": "code",
   "execution_count": 53,
   "metadata": {},
   "outputs": [
    {
     "name": "stdout",
     "output_type": "stream",
     "text": [
      "A\n",
      "B\n",
      "C\n",
      "D\n",
      "E\n"
     ]
    }
   ],
   "source": [
    "for i in range(65,70):\n",
    "    print(chr(i))"
   ]
  },
  {
   "cell_type": "markdown",
   "metadata": {},
   "source": [
    "##### Function to count the times of each character occurs in Alice in Wonderland"
   ]
  },
  {
   "cell_type": "code",
   "execution_count": 58,
   "metadata": {},
   "outputs": [
    {
     "data": {
      "text/plain": [
       "'\\r'"
      ]
     },
     "execution_count": 58,
     "metadata": {},
     "output_type": "execute_result"
    }
   ],
   "source": [
    "chr(10)"
   ]
  },
  {
   "cell_type": "code",
   "execution_count": 60,
   "metadata": {},
   "outputs": [
    {
     "data": {
      "text/plain": [
       "'\\r'"
      ]
     },
     "execution_count": 60,
     "metadata": {},
     "output_type": "execute_result"
    }
   ],
   "source": [
    "chr(13)"
   ]
  },
  {
   "cell_type": "code",
   "execution_count": 59,
   "metadata": {},
   "outputs": [
    {
     "data": {
      "text/plain": [
       "' '"
      ]
     },
     "execution_count": 59,
     "metadata": {},
     "output_type": "execute_result"
    }
   ],
   "source": [
    "chr(32)"
   ]
  },
  {
   "cell_type": "code",
   "execution_count": null,
   "metadata": {
    "collapsed": true
   },
   "outputs": [],
   "source": [
    "#\n",
    "# countletters.py\n",
    "#\n",
    "\n",
    "def display(i):\n",
    "    if i == 10: return 'LF'\n",
    "    if i == 13: return 'CR'\n",
    "    if i == 32: return 'SPACE'\n",
    "    return chr(i)\n",
    "\n",
    "infile = open('alice_in_wonderland.txt', 'r')\n",
    "text = infile.read()\n",
    "infile.close()\n",
    "\n",
    "counts = 128 * [0]\n",
    "\n",
    "for letter in text:\n",
    "    counts[ord(letter)] += 1\n",
    "\n",
    "outfile = open('alice_counts.dat', 'w')\n",
    "outfile.write(\"%-12s%s\\n\" % (\"Character\", \"Count\"))\n",
    "outfile.write(\"=================\\n\")\n",
    "\n",
    "for i in range(len(counts)):\n",
    "    if counts[i]:  # bool(0) == False --> if more than 0, write into the count file.\n",
    "        outfile.write(\"%-12s%d\\n\" % (display(i), counts[i]))\n",
    "\n",
    "outfile.close()"
   ]
  },
  {
   "cell_type": "markdown",
   "metadata": {},
   "source": [
    "  "
   ]
  },
  {
   "cell_type": "markdown",
   "metadata": {},
   "source": [
    "  "
   ]
  },
  {
   "cell_type": "markdown",
   "metadata": {},
   "source": [
    "  "
   ]
  },
  {
   "cell_type": "markdown",
   "metadata": {},
   "source": [
    "## The sys Module and argv"
   ]
  },
  {
   "cell_type": "markdown",
   "metadata": {},
   "source": [
    "##### SYS\n",
    "The sys module contains functions and variables which provide access to the environment in which the python interpreter runs."
   ]
  },
  {
   "cell_type": "code",
   "execution_count": 73,
   "metadata": {},
   "outputs": [
    {
     "data": {
      "text/plain": [
       "'win32'"
      ]
     },
     "execution_count": 73,
     "metadata": {},
     "output_type": "execute_result"
    }
   ],
   "source": [
    "import sys\n",
    "sys.platform"
   ]
  },
  {
   "cell_type": "code",
   "execution_count": 74,
   "metadata": {},
   "outputs": [
    {
     "data": {
      "text/plain": [
       "['',\n",
       " 'C:\\\\Anaconda3\\\\python36.zip',\n",
       " 'C:\\\\Anaconda3\\\\DLLs',\n",
       " 'C:\\\\Anaconda3\\\\lib',\n",
       " 'C:\\\\Anaconda3',\n",
       " 'C:\\\\Anaconda3\\\\lib\\\\site-packages',\n",
       " 'C:\\\\Anaconda3\\\\lib\\\\site-packages\\\\Babel-2.5.0-py3.6.egg',\n",
       " 'C:\\\\Anaconda3\\\\lib\\\\site-packages\\\\win32',\n",
       " 'C:\\\\Anaconda3\\\\lib\\\\site-packages\\\\win32\\\\lib',\n",
       " 'C:\\\\Anaconda3\\\\lib\\\\site-packages\\\\Pythonwin',\n",
       " 'C:\\\\Anaconda3\\\\lib\\\\site-packages\\\\IPython\\\\extensions',\n",
       " 'C:\\\\Users\\\\Nicole\\\\.ipython']"
      ]
     },
     "execution_count": 74,
     "metadata": {},
     "output_type": "execute_result"
    }
   ],
   "source": [
    "sys.path"
   ]
  },
  {
   "cell_type": "markdown",
   "metadata": {},
   "source": [
    "##### ARGV\n",
    "The argv variable holds a list of strings read in from the command line when a Python script is run. These command line arguments can be used to pass information into a program at the same time it is invoked."
   ]
  },
  {
   "cell_type": "code",
   "execution_count": 83,
   "metadata": {},
   "outputs": [
    {
     "name": "stdout",
     "output_type": "stream",
     "text": [
      "['C:\\\\Anaconda3\\\\lib\\\\site-packages\\\\ipykernel_launcher.py', '-f', 'C:\\\\Users\\\\Nicole\\\\AppData\\\\Roaming\\\\jupyter\\\\runtime\\\\kernel-3daf06a7-c4aa-4d39-8bac-9550a58e2836.json']\n"
     ]
    }
   ],
   "source": [
    "#\n",
    "# demo_argv.py\n",
    "#\n",
    "import sys\n",
    "\n",
    "print(sys.argv)"
   ]
  },
  {
   "cell_type": "markdown",
   "metadata": {},
   "source": [
    "Notice that the first element of the output is the name of the file."
   ]
  },
  {
   "cell_type": "raw",
   "metadata": {},
   "source": [
    "$ python demo_argv.py this and that 1 2 3\n",
    "['demo_argv.py', 'this', 'and', 'that', '1', '2', '3']\n",
    "$"
   ]
  },
  {
   "cell_type": "markdown",
   "metadata": {},
   "source": [
    "Execute the function of sum in CMD"
   ]
  },
  {
   "cell_type": "code",
   "execution_count": null,
   "metadata": {
    "collapsed": true
   },
   "outputs": [],
   "source": [
    "#\n",
    "# sum.py\n",
    "#\n",
    "from sys import argv\n",
    "\n",
    "nums = argv[1:]\n",
    "\n",
    "for index, value in enumerate(nums):\n",
    "    nums[index] = float(value)\n",
    "\n",
    "print sum(nums)\n"
   ]
  },
  {
   "cell_type": "raw",
   "metadata": {},
   "source": [
    "$ python sum.py 3 4 5 11\n",
    "23.0\n",
    "$ python sum.py 3.5 5 11 100\n",
    "119.5"
   ]
  },
  {
   "cell_type": "markdown",
   "metadata": {},
   "source": [
    "  "
   ]
  },
  {
   "cell_type": "markdown",
   "metadata": {},
   "source": [
    "   "
   ]
  },
  {
   "cell_type": "markdown",
   "metadata": {},
   "source": [
    "   "
   ]
  },
  {
   "cell_type": "markdown",
   "metadata": {},
   "source": [
    "## Exercise"
   ]
  },
  {
   "cell_type": "markdown",
   "metadata": {},
   "source": [
    "##### 1."
   ]
  },
  {
   "cell_type": "code",
   "execution_count": 75,
   "metadata": {},
   "outputs": [
    {
     "name": "stdout",
     "output_type": "stream",
     "text": [
      "                                  2017\n",
      "\n",
      "      January                   February                   March\n",
      "Mo Tu We Th Fr Sa Su      Mo Tu We Th Fr Sa Su      Mo Tu We Th Fr Sa Su\n",
      "                   1             1  2  3  4  5             1  2  3  4  5\n",
      " 2  3  4  5  6  7  8       6  7  8  9 10 11 12       6  7  8  9 10 11 12\n",
      " 9 10 11 12 13 14 15      13 14 15 16 17 18 19      13 14 15 16 17 18 19\n",
      "16 17 18 19 20 21 22      20 21 22 23 24 25 26      20 21 22 23 24 25 26\n",
      "23 24 25 26 27 28 29      27 28                     27 28 29 30 31\n",
      "30 31\n",
      "\n",
      "       April                      May                       June\n",
      "Mo Tu We Th Fr Sa Su      Mo Tu We Th Fr Sa Su      Mo Tu We Th Fr Sa Su\n",
      "                1  2       1  2  3  4  5  6  7                1  2  3  4\n",
      " 3  4  5  6  7  8  9       8  9 10 11 12 13 14       5  6  7  8  9 10 11\n",
      "10 11 12 13 14 15 16      15 16 17 18 19 20 21      12 13 14 15 16 17 18\n",
      "17 18 19 20 21 22 23      22 23 24 25 26 27 28      19 20 21 22 23 24 25\n",
      "24 25 26 27 28 29 30      29 30 31                  26 27 28 29 30\n",
      "\n",
      "        July                     August                  September\n",
      "Mo Tu We Th Fr Sa Su      Mo Tu We Th Fr Sa Su      Mo Tu We Th Fr Sa Su\n",
      "                1  2          1  2  3  4  5  6                   1  2  3\n",
      " 3  4  5  6  7  8  9       7  8  9 10 11 12 13       4  5  6  7  8  9 10\n",
      "10 11 12 13 14 15 16      14 15 16 17 18 19 20      11 12 13 14 15 16 17\n",
      "17 18 19 20 21 22 23      21 22 23 24 25 26 27      18 19 20 21 22 23 24\n",
      "24 25 26 27 28 29 30      28 29 30 31               25 26 27 28 29 30\n",
      "31\n",
      "\n",
      "      October                   November                  December\n",
      "Mo Tu We Th Fr Sa Su      Mo Tu We Th Fr Sa Su      Mo Tu We Th Fr Sa Su\n",
      "                   1             1  2  3  4  5                   1  2  3\n",
      " 2  3  4  5  6  7  8       6  7  8  9 10 11 12       4  5  6  7  8  9 10\n",
      " 9 10 11 12 13 14 15      13 14 15 16 17 18 19      11 12 13 14 15 16 17\n",
      "16 17 18 19 20 21 22      20 21 22 23 24 25 26      18 19 20 21 22 23 24\n",
      "23 24 25 26 27 28 29      27 28 29 30               25 26 27 28 29 30 31\n",
      "30 31\n",
      "\n"
     ]
    }
   ],
   "source": [
    "import calendar\n",
    "year = calendar.calendar(2017)\n",
    "print(year)"
   ]
  },
  {
   "cell_type": "markdown",
   "metadata": {},
   "source": [
    "##### 10."
   ]
  },
  {
   "cell_type": "code",
   "execution_count": 76,
   "metadata": {},
   "outputs": [
    {
     "data": {
      "text/plain": [
       "['If',\n",
       " 'we',\n",
       " 'took',\n",
       " 'the',\n",
       " 'bones',\n",
       " 'out,',\n",
       " 'it',\n",
       " \"wouldn't\",\n",
       " 'be',\n",
       " 'crunchy,',\n",
       " 'would',\n",
       " 'it?']"
      ]
     },
     "execution_count": 76,
     "metadata": {},
     "output_type": "execute_result"
    }
   ],
   "source": [
    "s = \"If we took the bones out, it wouldn't be crunchy, would it?\"\n",
    "s.split()"
   ]
  },
  {
   "cell_type": "code",
   "execution_count": 77,
   "metadata": {},
   "outputs": [
    {
     "data": {
      "text/plain": [
       "list"
      ]
     },
     "execution_count": 77,
     "metadata": {},
     "output_type": "execute_result"
    }
   ],
   "source": [
    "type(s.split())"
   ]
  },
  {
   "cell_type": "code",
   "execution_count": 78,
   "metadata": {},
   "outputs": [
    {
     "data": {
      "text/plain": [
       "['If we t',\n",
       " '',\n",
       " 'k the b',\n",
       " 'nes ',\n",
       " 'ut, it w',\n",
       " \"uldn't be crunchy, w\",\n",
       " 'uld it?']"
      ]
     },
     "execution_count": 78,
     "metadata": {},
     "output_type": "execute_result"
    }
   ],
   "source": [
    "s.split('o')"
   ]
  },
  {
   "cell_type": "code",
   "execution_count": 79,
   "metadata": {},
   "outputs": [
    {
     "data": {
      "text/plain": [
       "['If we took the bones out, ', \"t wouldn't be crunchy, would \", 't?']"
      ]
     },
     "execution_count": 79,
     "metadata": {},
     "output_type": "execute_result"
    }
   ],
   "source": [
    "s.split('i')"
   ]
  },
  {
   "cell_type": "code",
   "execution_count": 81,
   "metadata": {},
   "outputs": [
    {
     "name": "stdout",
     "output_type": "stream",
     "text": [
      "If we took the bones out, it wouldn't be crunchy, would it?\n"
     ]
    },
    {
     "data": {
      "text/plain": [
       "\"I0f0 0w0e0 0t0o0o0k0 0t0h0e0 0b0o0n0e0s0 0o0u0t0,0 0i0t0 0w0o0u0l0d0n0'0t0 0b0e0 0c0r0u0n0c0h0y0,0 0w0o0u0l0d0 0i0t0?\""
      ]
     },
     "execution_count": 81,
     "metadata": {},
     "output_type": "execute_result"
    }
   ],
   "source": [
    "print(s)\n",
    "('0').join(s)"
   ]
  },
  {
   "cell_type": "code",
   "execution_count": 91,
   "metadata": {},
   "outputs": [
    {
     "name": "stdout",
     "output_type": "stream",
     "text": [
      "this; that; and; some; other; thing\n",
      "Words**will**now**be**separated**by**stars.\n"
     ]
    }
   ],
   "source": [
    "def myreplace(old, new, s):\n",
    "    \"\"\"\n",
    "    Replace all occurences of old with new in the string s.\n",
    "\n",
    "      >>> myreplace(',', ';', 'this, that, and, some, other, thing')\n",
    "     'this; that; and; some; other; thing'\n",
    "     >>> myreplace(' ', '**', 'Words will now be separated by stars.')\n",
    "     'Words**will**now**be**separated**by**stars.'\n",
    "    \"\"\"\n",
    "    new_s = (new).join(s.split(old))\n",
    "    return new_s\n",
    "\n",
    "print(myreplace(',', ';', 'this, that, and, some, other, thing'))\n",
    "print(myreplace(' ', '**', 'Words will now be separated by stars.'))"
   ]
  },
  {
   "cell_type": "markdown",
   "metadata": {},
   "source": [
    "   "
   ]
  },
  {
   "cell_type": "markdown",
   "metadata": {},
   "source": [
    "##### 11."
   ]
  },
  {
   "cell_type": "code",
   "execution_count": 102,
   "metadata": {},
   "outputs": [
    {
     "name": "stdout",
     "output_type": "stream",
     "text": [
      "what\n",
      "now\n",
      "word\n"
     ]
    }
   ],
   "source": [
    "def cleanword(word):\n",
    "    \"\"\"\n",
    "      >>> cleanword('what?')\n",
    "      'what'\n",
    "      >>> cleanword('\"now!\"')\n",
    "      'now'\n",
    "      >>> cleanword('?+=\"word!,@$()\"')\n",
    "      'word'\n",
    "    \"\"\"\n",
    "    import string \n",
    "    allchars = string.ascii_lowercase + string.ascii_uppercase\n",
    "    outchars = ''\n",
    "    for i in word:\n",
    "        if i in allchars:\n",
    "            outchars += i\n",
    "    return outchars\n",
    "\n",
    "print(cleanword('what?'))\n",
    "print(cleanword('\"now!\"'))\n",
    "print(cleanword('?+=\"word!,@$()\"'))"
   ]
  },
  {
   "cell_type": "code",
   "execution_count": 107,
   "metadata": {},
   "outputs": [
    {
     "name": "stdout",
     "output_type": "stream",
     "text": [
      "True\n",
      "False\n",
      "False\n",
      "True\n",
      "False\n"
     ]
    }
   ],
   "source": [
    "def has_dashdash(s):\n",
    "    \"\"\"\n",
    "      >>> has_dashdash('distance--but')\n",
    "      True\n",
    "      >>> has_dashdash('several')\n",
    "      False\n",
    "      >>> has_dashdash('critters')\n",
    "      False\n",
    "      >>> has_dashdash('spoke--fancy')\n",
    "      True\n",
    "      >>> has_dashdash('yo-yo')\n",
    "      False\n",
    "    \"\"\"\n",
    "    return ('--' in s)\n",
    "\n",
    "\n",
    "print(has_dashdash('distance--but'))\n",
    "print(has_dashdash('several'))\n",
    "print(has_dashdash('critters'))\n",
    "print(has_dashdash('spoke--fancy'))\n",
    "print(has_dashdash('yo-yo'))"
   ]
  },
  {
   "cell_type": "code",
   "execution_count": 129,
   "metadata": {},
   "outputs": [
    {
     "name": "stdout",
     "output_type": "stream",
     "text": [
      "============= This is the 1st function (not right) =============\n",
      "['now', 'is', 'the', 'time', '', 'now', 'is', 'the', 'time', 'yes', 'now']\n",
      "['she', 'tried', 'to', 'curtsey', 'as', 'she', 'spokefancy']\n",
      "\n",
      "============= This is the 2nd function =============\n",
      "['now', 'is', 'the', 'time', 'now', 'is', 'the', 'time', 'yes', 'now']\n",
      "['she', 'tried', 'to', 'curtsey', 'as', 'she', 'spoke', 'fancy']\n",
      "\n"
     ]
    }
   ],
   "source": [
    "def extract_words_v1(s):\n",
    "    \"\"\"\n",
    "      >>> extract_words('Now is the time!  \"Now\", is the time? Yes, now.')\n",
    "      ['now', 'is', 'the', 'time', 'now', 'is', 'the', 'time', 'yes', 'now']\n",
    "      >>> extract_words('she tried to curtsey as she spoke--fancy')\n",
    "      ['she', 'tried', 'to', 'curtsey', 'as', 'she', 'spoke', 'fancy']\n",
    "    \"\"\"\n",
    "    import string\n",
    "    \n",
    "    s_lst = s.split(' ')\n",
    "    \n",
    "    outlst = []\n",
    "    for i in s_lst:\n",
    "        i = i.lower()\n",
    "        outstr = ''\n",
    "        for k in i:\n",
    "            if k in string.ascii_lowercase:\n",
    "                outstr += k\n",
    "        outlst.append(outstr)\n",
    "    return outlst\n",
    "\n",
    "print(\"============= This is the 1st function (not right) =============\")\n",
    "print(extract_words_v1('Now is the time!  \"Now\", is the time? Yes, now.'))\n",
    "print(extract_words_v1('she tried to curtsey as she spoke--fancy'))\n",
    "print()\n",
    "\n",
    "\n",
    "\n",
    "def extract_words_v2(s):\n",
    "    \"\"\"\n",
    "      >>> extract_words('Now is the time!  \"Now\", is the time? Yes, now.')\n",
    "      ['now', 'is', 'the', 'time', 'now', 'is', 'the', 'time', 'yes', 'now']\n",
    "      >>> extract_words('she tried to curtsey as she spoke--fancy')\n",
    "      ['she', 'tried', 'to', 'curtsey', 'as', 'she', 'spoke', 'fancy']\n",
    "    \"\"\"\n",
    "    import re\n",
    "    \n",
    "    s_lst = re.findall(\"[\\w]+\", s)\n",
    "    s_lst = [i.lower() for i in s_lst]\n",
    "    \n",
    "    return s_lst\n",
    "\n",
    "print(\"============= This is the 2nd function =============\")\n",
    "print(extract_words_v2('Now is the time!  \"Now\", is the time? Yes, now.'))\n",
    "print(extract_words_v2('she tried to curtsey as she spoke--fancy'))\n",
    "print()\n"
   ]
  },
  {
   "cell_type": "code",
   "execution_count": 131,
   "metadata": {},
   "outputs": [
    {
     "name": "stdout",
     "output_type": "stream",
     "text": [
      "['now', 2]\n",
      "['is', 4]\n",
      "['time', 1]\n",
      "['frog', 0]\n"
     ]
    }
   ],
   "source": [
    "def wordcount(word, wordlist):\n",
    "    \"\"\"\n",
    "      >>> wordcount('now', ['now', 'is', 'time', 'is', 'now', 'is', 'is'])\n",
    "      ['now', 2]\n",
    "      >>> wordcount('is', ['now', 'is', 'time', 'is', 'now', 'is', 'the', 'is'])\n",
    "      ['is', 4]\n",
    "      >>> wordcount('time', ['now', 'is', 'time', 'is', 'now', 'is', 'is'])\n",
    "      ['time', 1]\n",
    "      >>> wordcount('frog', ['now', 'is', 'time', 'is', 'now', 'is', 'is'])\n",
    "      ['frog', 0]\n",
    "    \"\"\"\n",
    "    count_wd = 0\n",
    "    for i in wordlist:\n",
    "        if i == word:\n",
    "            count_wd += 1\n",
    "    \n",
    "    output = []\n",
    "    output = [word, count_wd]\n",
    "    return output\n",
    "\n",
    "print(wordcount('now', ['now', 'is', 'time', 'is', 'now', 'is', 'is']))\n",
    "print(wordcount('is', ['now', 'is', 'time', 'is', 'now', 'is', 'the', 'is']))\n",
    "print(wordcount('time', ['now', 'is', 'time', 'is', 'now', 'is', 'is']))\n",
    "print(wordcount('frog', ['now', 'is', 'time', 'is', 'now', 'is', 'is']))"
   ]
  },
  {
   "cell_type": "code",
   "execution_count": 135,
   "metadata": {},
   "outputs": [
    {
     "name": "stdout",
     "output_type": "stream",
     "text": [
      "['is', 'now', 'time']\n",
      "['I', 'a', 'am', 'is']\n",
      "['a', 'am', 'are', 'be', 'but', 'is', 'or']\n"
     ]
    }
   ],
   "source": [
    "def wordset(wordlist):\n",
    "    \"\"\"\n",
    "      >>> wordset(['now', 'is', 'time', 'is', 'now', 'is', 'is'])\n",
    "      ['is', 'now', 'time']\n",
    "      >>> wordset(['I', 'a', 'a', 'is', 'a', 'is', 'I', 'am'])\n",
    "      ['I', 'a', 'am', 'is']\n",
    "      >>> wordset(['or', 'a', 'am', 'is', 'are', 'be', 'but', 'am'])\n",
    "      ['a', 'am', 'are', 'be', 'but', 'is', 'or']\n",
    "    \"\"\"\n",
    "    output = []\n",
    "    for w in wordlist:\n",
    "        if w not in output:\n",
    "            output.append(w)\n",
    "    output.sort()\n",
    "    return output\n",
    "\n",
    "print(wordset(['now', 'is', 'time', 'is', 'now', 'is', 'is']))\n",
    "print(wordset(['I', 'a', 'a', 'is', 'a', 'is', 'I', 'am']))\n",
    "print(wordset(['or', 'a', 'am', 'is', 'are', 'be', 'but', 'am']))"
   ]
  },
  {
   "cell_type": "code",
   "execution_count": 139,
   "metadata": {},
   "outputs": [
    {
     "name": "stdout",
     "output_type": "stream",
     "text": [
      "5\n",
      "2\n",
      "34\n"
     ]
    }
   ],
   "source": [
    "def longestword(wordset):\n",
    "    \"\"\"\n",
    "      >>> longestword(['a', 'apple', 'pear', 'grape'])\n",
    "      5\n",
    "      >>> longestword(['a', 'am', 'I', 'be'])\n",
    "      2\n",
    "      >>> longestword(['this', 'that', 'supercalifragilisticexpialidocious'])\n",
    "      34\n",
    "    \"\"\"\n",
    "    longest = 0\n",
    "    for w in wordset:\n",
    "        if len(w) > longest:\n",
    "            longest = len(w)\n",
    "    return longest\n",
    "print(longestword(['a', 'apple', 'pear', 'grape']))\n",
    "print(longestword(['a', 'am', 'I', 'be']))\n",
    "print(longestword(['this', 'that', 'supercalifragilisticexpialidocious']))"
   ]
  },
  {
   "cell_type": "markdown",
   "metadata": {},
   "source": [
    "  "
   ]
  },
  {
   "cell_type": "markdown",
   "metadata": {},
   "source": [
    "  "
   ]
  },
  {
   "cell_type": "markdown",
   "metadata": {},
   "source": [
    "  "
   ]
  },
  {
   "cell_type": "markdown",
   "metadata": {},
   "source": [
    "  "
   ]
  }
 ],
 "metadata": {
  "kernelspec": {
   "display_name": "Python 3",
   "language": "python",
   "name": "python3"
  },
  "language_info": {
   "codemirror_mode": {
    "name": "ipython",
    "version": 3
   },
   "file_extension": ".py",
   "mimetype": "text/x-python",
   "name": "python",
   "nbconvert_exporter": "python",
   "pygments_lexer": "ipython3",
   "version": "3.6.3"
  }
 },
 "nbformat": 4,
 "nbformat_minor": 2
}
