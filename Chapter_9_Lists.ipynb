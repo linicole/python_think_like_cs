{
 "cells": [
  {
   "cell_type": "markdown",
   "metadata": {},
   "source": [
    "### List values"
   ]
  },
  {
   "cell_type": "markdown",
   "metadata": {},
   "source": [
    "###### 1. The elements in a list can have any type."
   ]
  },
  {
   "cell_type": "code",
   "execution_count": 3,
   "metadata": {},
   "outputs": [
    {
     "name": "stdout",
     "output_type": "stream",
     "text": [
      "['hello', 2.0, 5, [10, 20]]\n"
     ]
    }
   ],
   "source": [
    "print([\"hello\", 2.0, 5, [10, 20]])"
   ]
  },
  {
   "cell_type": "markdown",
   "metadata": {},
   "source": [
    "###### 2. An empty list can be treated as False\n",
    "Like numeric 0 values and the empty string, the empty list is false in a boolean expression,"
   ]
  },
  {
   "cell_type": "code",
   "execution_count": 4,
   "metadata": {},
   "outputs": [
    {
     "name": "stdout",
     "output_type": "stream",
     "text": [
      "This is false.\n"
     ]
    }
   ],
   "source": [
    "if []:\n",
    "    print(\"This is true.\")\n",
    "else:\n",
    "    print(\"This is false.\")"
   ]
  },
  {
   "cell_type": "markdown",
   "metadata": {},
   "source": [
    "  "
   ]
  },
  {
   "cell_type": "markdown",
   "metadata": {},
   "source": [
    "  "
   ]
  },
  {
   "cell_type": "markdown",
   "metadata": {},
   "source": [
    "### Accessing Elements"
   ]
  },
  {
   "cell_type": "code",
   "execution_count": 6,
   "metadata": {
    "collapsed": true
   },
   "outputs": [],
   "source": [
    "numbers = [17, 123, 42]"
   ]
  },
  {
   "cell_type": "code",
   "execution_count": 7,
   "metadata": {},
   "outputs": [
    {
     "data": {
      "text/plain": [
       "123"
      ]
     },
     "execution_count": 7,
     "metadata": {},
     "output_type": "execute_result"
    }
   ],
   "source": [
    "numbers[9-8]  # index can be an INDEX only."
   ]
  },
  {
   "cell_type": "markdown",
   "metadata": {},
   "source": [
    "If an index has a negative value, it counts backward from the end of the list."
   ]
  },
  {
   "cell_type": "code",
   "execution_count": 10,
   "metadata": {},
   "outputs": [
    {
     "data": {
      "text/plain": [
       "123"
      ]
     },
     "execution_count": 10,
     "metadata": {},
     "output_type": "execute_result"
    }
   ],
   "source": [
    "numbers[-2]"
   ]
  },
  {
   "cell_type": "code",
   "execution_count": 12,
   "metadata": {},
   "outputs": [
    {
     "name": "stdout",
     "output_type": "stream",
     "text": [
      "war\n",
      "famine\n",
      "pestilence\n",
      "death\n"
     ]
    }
   ],
   "source": [
    "horsemen = [\"war\", \"famine\", \"pestilence\", \"death\"]\n",
    "i = 0\n",
    "while i < 4:\n",
    "    print(horsemen[i])\n",
    "    i += 1"
   ]
  },
  {
   "cell_type": "markdown",
   "metadata": {},
   "source": [
    "    "
   ]
  },
  {
   "cell_type": "markdown",
   "metadata": {},
   "source": [
    "  "
   ]
  },
  {
   "cell_type": "markdown",
   "metadata": {},
   "source": [
    "### List length\n",
    "It is a good idea to use this value as the upper bound of a loop instead of a constant. "
   ]
  },
  {
   "cell_type": "code",
   "execution_count": 14,
   "metadata": {},
   "outputs": [
    {
     "name": "stdout",
     "output_type": "stream",
     "text": [
      "war\n",
      "famine\n",
      "pestilence\n",
      "death\n"
     ]
    }
   ],
   "source": [
    "horsemen = [\"war\", \"famine\", \"pestilence\", \"death\"]\n",
    "i = 0\n",
    "while i < len(horsemen):  # last time the body of the loop is executed \n",
    "                          # when i = len(horsemen)-1 which is the index of the last element\n",
    "    print(horsemen[i])\n",
    "    i += 1"
   ]
  },
  {
   "cell_type": "markdown",
   "metadata": {},
   "source": [
    "  "
   ]
  },
  {
   "cell_type": "markdown",
   "metadata": {},
   "source": [
    "  "
   ]
  },
  {
   "cell_type": "markdown",
   "metadata": {},
   "source": [
    "### List Operation + & *"
   ]
  },
  {
   "cell_type": "markdown",
   "metadata": {},
   "source": [
    "  "
   ]
  },
  {
   "cell_type": "markdown",
   "metadata": {},
   "source": [
    "  "
   ]
  },
  {
   "cell_type": "markdown",
   "metadata": {},
   "source": [
    "### The RANGE Function\n",
    "In Python 3.x, the range() function got its own type. "
   ]
  },
  {
   "cell_type": "code",
   "execution_count": 23,
   "metadata": {},
   "outputs": [
    {
     "data": {
      "text/plain": [
       "False"
      ]
     },
     "execution_count": 23,
     "metadata": {},
     "output_type": "execute_result"
    }
   ],
   "source": [
    "range(1, 10, 2) == [1, 3, 5, 7, 9]"
   ]
  },
  {
   "cell_type": "code",
   "execution_count": 22,
   "metadata": {},
   "outputs": [
    {
     "data": {
      "text/plain": [
       "True"
      ]
     },
     "execution_count": 22,
     "metadata": {},
     "output_type": "execute_result"
    }
   ],
   "source": [
    "list(range(1, 10, 2)) == [1, 3, 5, 7, 9]"
   ]
  },
  {
   "cell_type": "markdown",
   "metadata": {},
   "source": [
    "* Takes two arguments and returns a list that contains all the integers from the first to the second, ** including the first but not the second**.\n",
    "* If there is a third argument, it specifies the space between successive values, which is called the **step size**."
   ]
  },
  {
   "cell_type": "code",
   "execution_count": 18,
   "metadata": {},
   "outputs": [
    {
     "data": {
      "text/plain": [
       "True"
      ]
     },
     "execution_count": 18,
     "metadata": {},
     "output_type": "execute_result"
    }
   ],
   "source": [
    "range(0, 5) == range(5) # [0, 1, 2, 3, 4]"
   ]
  },
  {
   "cell_type": "markdown",
   "metadata": {},
   "source": [
    "  "
   ]
  },
  {
   "cell_type": "markdown",
   "metadata": {},
   "source": [
    "  "
   ]
  },
  {
   "cell_type": "markdown",
   "metadata": {},
   "source": [
    "### Lists are mutable\n",
    "Unlike strings, lists are mutable, which means we can change their elements."
   ]
  },
  {
   "cell_type": "markdown",
   "metadata": {},
   "source": [
    "With the slice operator we can update several elements at once:"
   ]
  },
  {
   "cell_type": "code",
   "execution_count": 26,
   "metadata": {},
   "outputs": [
    {
     "name": "stdout",
     "output_type": "stream",
     "text": [
      "['b', 'c']\n",
      "['a', 'x', 'y', 'd', 'e', 'f']\n"
     ]
    }
   ],
   "source": [
    "a_list = ['a', 'b', 'c', 'd', 'e', 'f']\n",
    "print(a_list[1:3])\n",
    "a_list[1:3] = ['x', 'y']\n",
    "print(a_list)"
   ]
  },
  {
   "cell_type": "markdown",
   "metadata": {},
   "source": [
    "Remove elements from a list by assigning the empty list to them:"
   ]
  },
  {
   "cell_type": "code",
   "execution_count": 27,
   "metadata": {},
   "outputs": [
    {
     "name": "stdout",
     "output_type": "stream",
     "text": [
      "['a', 'd', 'e', 'f']\n"
     ]
    }
   ],
   "source": [
    "a_list[1:3] = []\n",
    "print(a_list)"
   ]
  },
  {
   "cell_type": "markdown",
   "metadata": {},
   "source": [
    "Add elements to a list by **squeezing** them into an empty slice at the desired location"
   ]
  },
  {
   "cell_type": "code",
   "execution_count": 32,
   "metadata": {},
   "outputs": [
    {
     "name": "stdout",
     "output_type": "stream",
     "text": [
      "['a', 'x', 'y', 'b', 'c']\n",
      "['a', 'x', 'y', 'z', 'b', 'c']\n"
     ]
    }
   ],
   "source": [
    "a_list = ['a', 'b', 'c']\n",
    "a_list[1:1] = ['x', 'y'] # a_list[1:1] = []\n",
    "print(a_list)\n",
    "a_list[3:3] = ['z']\n",
    "print(a_list)"
   ]
  },
  {
   "cell_type": "markdown",
   "metadata": {},
   "source": [
    "  "
   ]
  },
  {
   "cell_type": "markdown",
   "metadata": {},
   "source": [
    "  "
   ]
  },
  {
   "cell_type": "markdown",
   "metadata": {},
   "source": [
    "### List deletion - del"
   ]
  },
  {
   "cell_type": "markdown",
   "metadata": {},
   "source": [
    "del removes an element from a list:"
   ]
  },
  {
   "cell_type": "code",
   "execution_count": 37,
   "metadata": {},
   "outputs": [
    {
     "data": {
      "text/plain": [
       "['a', 'b', 'c']"
      ]
     },
     "execution_count": 37,
     "metadata": {},
     "output_type": "execute_result"
    }
   ],
   "source": [
    "a_list = ['a', 'x', 'y', 'z', 'b', 'c']\n",
    "del a_list[1:4] # slices select all the elements up to, but not including, the second index.\n",
    "                # del could handle nagetive index as well\n",
    "a_list"
   ]
  },
  {
   "cell_type": "markdown",
   "metadata": {},
   "source": [
    "  "
   ]
  },
  {
   "cell_type": "markdown",
   "metadata": {},
   "source": [
    "### Objects and values"
   ]
  },
  {
   "cell_type": "markdown",
   "metadata": {},
   "source": [
    "Since strings are **immutable**, Python optimizes resources by making two names that refer to the same string value refer to the same object."
   ]
  },
  {
   "cell_type": "code",
   "execution_count": 39,
   "metadata": {},
   "outputs": [
    {
     "name": "stdout",
     "output_type": "stream",
     "text": [
      "True\n",
      "True\n"
     ]
    }
   ],
   "source": [
    "a = \"banana\"\n",
    "b = \"banana\"\n",
    "print(a == b)\n",
    "print(a is b)"
   ]
  },
  {
   "cell_type": "markdown",
   "metadata": {},
   "source": [
    "But for lists, two lists with same value do not refer to the same object."
   ]
  },
  {
   "cell_type": "code",
   "execution_count": 40,
   "metadata": {},
   "outputs": [
    {
     "name": "stdout",
     "output_type": "stream",
     "text": [
      "True\n",
      "False\n"
     ]
    }
   ],
   "source": [
    "c = [1, 2, 3]\n",
    "d = [1, 2, 3]\n",
    "print(c == d)\n",
    "print(c is d)"
   ]
  },
  {
   "cell_type": "markdown",
   "metadata": {},
   "source": [
    "But, if we assign one variable to another, both variables refer to the same object. In general, it is safer to avoid aliasing when you are working with mutable objects. "
   ]
  },
  {
   "cell_type": "code",
   "execution_count": 43,
   "metadata": {},
   "outputs": [
    {
     "name": "stdout",
     "output_type": "stream",
     "text": [
      "True\n",
      "[10, 2, 3]\n"
     ]
    }
   ],
   "source": [
    "c = [1, 2, 3]\n",
    "d = c           # d is just an ALISES for c. When d changes, c also changes. \n",
    "print(c is d)\n",
    "d[0] = 10\n",
    "print(c)"
   ]
  },
  {
   "cell_type": "markdown",
   "metadata": {},
   "source": [
    "Copy a list"
   ]
  },
  {
   "cell_type": "code",
   "execution_count": 44,
   "metadata": {},
   "outputs": [
    {
     "name": "stdout",
     "output_type": "stream",
     "text": [
      "False\n"
     ]
    }
   ],
   "source": [
    "c = [1, 2, 3]\n",
    "d = c[:]\n",
    "print(c is d)"
   ]
  },
  {
   "cell_type": "code",
   "execution_count": 45,
   "metadata": {},
   "outputs": [
    {
     "name": "stdout",
     "output_type": "stream",
     "text": [
      "False\n"
     ]
    }
   ],
   "source": [
    "import copy\n",
    "c = [1, 2, 3]\n",
    "d = c.copy()\n",
    "print(c is d)"
   ]
  },
  {
   "cell_type": "markdown",
   "metadata": {},
   "source": [
    "  "
   ]
  },
  {
   "cell_type": "markdown",
   "metadata": {},
   "source": [
    "### Lists and for loops"
   ]
  },
  {
   "cell_type": "code",
   "execution_count": 49,
   "metadata": {},
   "outputs": [
    {
     "data": {
      "text/plain": [
       "[1, 4, 9, 16, 25]"
      ]
     },
     "execution_count": 49,
     "metadata": {},
     "output_type": "execute_result"
    }
   ],
   "source": [
    "numbers = [1, 2, 3, 4, 5]\n",
    "\n",
    "for index in range(len(numbers)):\n",
    "    numbers[index] = numbers[index]**2\n",
    "numbers"
   ]
  },
  {
   "cell_type": "code",
   "execution_count": 50,
   "metadata": {},
   "outputs": [
    {
     "data": {
      "text/plain": [
       "[1, 4, 9, 16, 25]"
      ]
     },
     "execution_count": 50,
     "metadata": {},
     "output_type": "execute_result"
    }
   ],
   "source": [
    "number = [1, 2,3 ,4, 5]\n",
    "\n",
    "for i, j in enumerate(number):\n",
    "    number[i] = j**2\n",
    "number"
   ]
  },
  {
   "cell_type": "markdown",
   "metadata": {},
   "source": [
    "  "
   ]
  },
  {
   "cell_type": "markdown",
   "metadata": {},
   "source": [
    "### Nested lists & Matrices"
   ]
  },
  {
   "cell_type": "code",
   "execution_count": 54,
   "metadata": {},
   "outputs": [
    {
     "name": "stdout",
     "output_type": "stream",
     "text": [
      "[1, 2, 3]\n",
      "3\n"
     ]
    }
   ],
   "source": [
    "matrix = [[1, 2, 3], [4, 5, 6], [7, 8, 9]]\n",
    "# row\n",
    "print(matrix[0])\n",
    "# element\n",
    "print(matrix[0][2])"
   ]
  },
  {
   "cell_type": "markdown",
   "metadata": {},
   "source": [
    "Upon reflection, we realize that in the function below, each row is an **alias** of the other rows. "
   ]
  },
  {
   "cell_type": "code",
   "execution_count": 58,
   "metadata": {},
   "outputs": [
    {
     "data": {
      "text/plain": [
       "[[0, 0, 7], [0, 0, 7], [0, 0, 7], [0, 0, 7]]"
      ]
     },
     "execution_count": 58,
     "metadata": {},
     "output_type": "execute_result"
    }
   ],
   "source": [
    "def make_matrix(rows, columns):\n",
    "    \"\"\"\n",
    "      >>> make_matrix(3, 5)\n",
    "      [[0, 0, 0, 0, 0], [0, 0, 0, 0, 0], [0, 0, 0, 0, 0]]   --> Test-driven development (TDD)\n",
    "      >>> make_matrix(4, 2)\n",
    "      [[0, 0], [0, 0], [0, 0], [0, 0]]\n",
    "    \"\"\"\n",
    "    return [[0] * columns] * rows\n",
    "\n",
    "m = make_matrix(4, 3)\n",
    "m[1][2] = 7\n",
    "m"
   ]
  },
  {
   "cell_type": "code",
   "execution_count": 59,
   "metadata": {},
   "outputs": [
    {
     "data": {
      "text/plain": [
       "[[0, 0, 0], [0, 0, 7], [0, 0, 0], [0, 0, 0]]"
      ]
     },
     "execution_count": 59,
     "metadata": {},
     "output_type": "execute_result"
    }
   ],
   "source": [
    "def make_matrix(rows, columns):\n",
    "    \"\"\"\n",
    "      >>> make_matrix(3, 5)\n",
    "      [[0, 0, 0, 0, 0], [0, 0, 0, 0, 0], [0, 0, 0, 0, 0]]  --> Test-driven development (TDD)\n",
    "      >>> make_matrix(4, 2)\n",
    "      [[0, 0], [0, 0], [0, 0], [0, 0]]\n",
    "      >>> m = make_matrix(4, 2)\n",
    "      >>> m[1][1] = 7\n",
    "      >>> m\n",
    "      [[0, 0], [0, 7], [0, 0], [0, 0]]\n",
    "    \"\"\"\n",
    "    matrix = []\n",
    "    for row in range(rows):\n",
    "        matrix += [[0] * columns]\n",
    "    return matrix\n",
    "\n",
    "m = make_matrix(4, 3)\n",
    "m[1][2] = 7\n",
    "m"
   ]
  },
  {
   "cell_type": "markdown",
   "metadata": {},
   "source": [
    "  "
   ]
  },
  {
   "cell_type": "markdown",
   "metadata": {},
   "source": [
    "### Strings and lists"
   ]
  },
  {
   "cell_type": "code",
   "execution_count": 60,
   "metadata": {},
   "outputs": [
    {
     "data": {
      "text/plain": [
       "['C', 'r', 'u', 'n', 'c', 'h', 'y', ' ', 'F', 'r', 'o', 'g']"
      ]
     },
     "execution_count": 60,
     "metadata": {},
     "output_type": "execute_result"
    }
   ],
   "source": [
    "list(\"Crunchy Frog\")"
   ]
  },
  {
   "cell_type": "code",
   "execution_count": 62,
   "metadata": {},
   "outputs": [
    {
     "data": {
      "text/plain": [
       "('5', 'None', ['N', 'o', 'n', 'e'])"
      ]
     },
     "execution_count": 62,
     "metadata": {},
     "output_type": "execute_result"
    }
   ],
   "source": [
    "str(5), str(None), list(str(None))"
   ]
  },
  {
   "cell_type": "markdown",
   "metadata": {},
   "source": [
    "* To join a list of elements together:"
   ]
  },
  {
   "cell_type": "code",
   "execution_count": 71,
   "metadata": {},
   "outputs": [
    {
     "data": {
      "text/plain": [
       "'H_o_l_i_d_a_y'"
      ]
     },
     "execution_count": 71,
     "metadata": {},
     "output_type": "execute_result"
    }
   ],
   "source": [
    "import string\n",
    "'_'.join(list(\"Holiday\"))  # this is in Python 3 --> delimiter.join(split_object)"
   ]
  },
  {
   "cell_type": "markdown",
   "metadata": {},
   "source": [
    "* To break a string"
   ]
  },
  {
   "cell_type": "code",
   "execution_count": 76,
   "metadata": {},
   "outputs": [
    {
     "data": {
      "text/plain": [
       "['I f', 'l so dame tired today.']"
      ]
     },
     "execution_count": 76,
     "metadata": {},
     "output_type": "execute_result"
    }
   ],
   "source": [
    "\"I feel so dame tired today.\".split('ee')"
   ]
  },
  {
   "cell_type": "markdown",
   "metadata": {},
   "source": [
    "  "
   ]
  },
  {
   "cell_type": "markdown",
   "metadata": {},
   "source": [
    "  "
   ]
  },
  {
   "cell_type": "markdown",
   "metadata": {},
   "source": [
    "### Exercise"
   ]
  },
  {
   "cell_type": "markdown",
   "metadata": {},
   "source": [
    "###### 1. "
   ]
  },
  {
   "cell_type": "code",
   "execution_count": 78,
   "metadata": {},
   "outputs": [
    {
     "name": "stdout",
     "output_type": "stream",
     "text": [
      "('spam!', 5)\n",
      "('one', 3)\n",
      "(['Brie', 'Roquefort', 'Pol le Veq'], 3)\n",
      "([1, 2, 3], 3)\n"
     ]
    }
   ],
   "source": [
    "mylst = ['spam!', 'one', ['Brie', 'Roquefort', 'Pol le Veq'], [1, 2, 3]]\n",
    "\n",
    "for l in mylst:\n",
    "    print((l, len(l)))"
   ]
  },
  {
   "cell_type": "markdown",
   "metadata": {},
   "source": [
    "###### 2. "
   ]
  },
  {
   "cell_type": "code",
   "execution_count": 81,
   "metadata": {},
   "outputs": [
    {
     "data": {
      "text/plain": [
       "42"
      ]
     },
     "execution_count": 81,
     "metadata": {},
     "output_type": "execute_result"
    }
   ],
   "source": [
    "\"\"\"\n",
    "  >>> a_list[3]\n",
    "  42\n",
    "  >>> a_list[6]\n",
    "  'Ni!'\n",
    "  >>> len(a_list)\n",
    "  8\n",
    "\"\"\"\n",
    "a_list = [2, 5, 6, 42, 47, 48, 'Ni!','sleep']\n",
    "a_list[3]"
   ]
  },
  {
   "cell_type": "code",
   "execution_count": 83,
   "metadata": {},
   "outputs": [
    {
     "name": "stdout",
     "output_type": "stream",
     "text": [
      "['Stills', 'Nash']\n",
      "Young\n"
     ]
    }
   ],
   "source": [
    "\"\"\"\n",
    "  >>> b_list[1:]\n",
    "  ['Stills', 'Nash']\n",
    "  >>> group = b_list + c_list\n",
    "  >>> group[-1]\n",
    "  'Young'\n",
    "\"\"\"\n",
    "b_list = ['start', 'Stills', 'Nash']\n",
    "c_list = ['Young']\n",
    "print(b_list[1:])\n",
    "group = b_list + c_list\n",
    "print(group[-1])"
   ]
  },
  {
   "cell_type": "code",
   "execution_count": 84,
   "metadata": {},
   "outputs": [
    {
     "data": {
      "text/plain": [
       "True"
      ]
     },
     "execution_count": 84,
     "metadata": {},
     "output_type": "execute_result"
    }
   ],
   "source": [
    "\"\"\"\n",
    "  >>> 'war' in mystery_list\n",
    "  False\n",
    "  >>> 'peace' in mystery_list\n",
    "  True\n",
    "  >>> 'justice' in mystery_list\n",
    "  True\n",
    "  >>> 'oppression' in mystery_list\n",
    "  False\n",
    "  >>> 'equality' in mystery_list\n",
    "  True\n",
    "\"\"\"\n",
    "mystery_list =['peace', 'justice', 'equality']\n",
    "'equality' in mystery_list"
   ]
  },
  {
   "cell_type": "code",
   "execution_count": 85,
   "metadata": {},
   "outputs": [
    {
     "data": {
      "text/plain": [
       "[5, 9, 13, 17]"
      ]
     },
     "execution_count": 85,
     "metadata": {},
     "output_type": "execute_result"
    }
   ],
   "source": [
    "\"\"\"\n",
    "  >>> range(a, b, c)\n",
    "  [5, 9, 13, 17]\n",
    "\"\"\"\n",
    "list(range(5, 18, 4))"
   ]
  },
  {
   "cell_type": "markdown",
   "metadata": {},
   "source": [
    "###### 3. "
   ]
  },
  {
   "cell_type": "code",
   "execution_count": 86,
   "metadata": {},
   "outputs": [
    {
     "data": {
      "text/plain": [
       "[10, 8, 6, 4, 2]"
      ]
     },
     "execution_count": 86,
     "metadata": {},
     "output_type": "execute_result"
    }
   ],
   "source": [
    "list(range(10, 0, -2))"
   ]
  },
  {
   "cell_type": "markdown",
   "metadata": {},
   "source": [
    "###### 4. "
   ]
  },
  {
   "cell_type": "code",
   "execution_count": 89,
   "metadata": {},
   "outputs": [
    {
     "name": "stdout",
     "output_type": "stream",
     "text": [
      "False\n",
      "False\n",
      "[1, 2, 3] [5, 2, 3]\n"
     ]
    }
   ],
   "source": [
    "a = [1, 2, 3]\n",
    "b = a[:]\n",
    "print(a is b)\n",
    "b[0] = 5\n",
    "print(a is b)\n",
    "print(a, b)"
   ]
  },
  {
   "cell_type": "markdown",
   "metadata": {},
   "source": [
    "###### 5. "
   ]
  },
  {
   "cell_type": "code",
   "execution_count": 92,
   "metadata": {},
   "outputs": [
    {
     "name": "stdout",
     "output_type": "stream",
     "text": [
      "Test 1: False\n",
      "Test 2: True\n"
     ]
    }
   ],
   "source": [
    "this = ['I', 'am', 'not', 'a', 'crook']\n",
    "that = ['I', 'am', 'not', 'a', 'crook']\n",
    "print(\"Test 1: %s\" % (this is that))\n",
    "that = this\n",
    "print(\"Test 2: %s\" % (this is that))"
   ]
  },
  {
   "cell_type": "markdown",
   "metadata": {},
   "source": [
    "###### 6. "
   ]
  },
  {
   "cell_type": "code",
   "execution_count": 93,
   "metadata": {},
   "outputs": [
    {
     "name": "stdout",
     "output_type": "stream",
     "text": [
      "[3, 7, 9, 10, 17, 21, 24, 27]\n",
      "[3, 7, 27]\n"
     ]
    }
   ],
   "source": [
    "\"\"\"\n",
    "  >>> 13 in junk\n",
    "  True\n",
    "  >>> del junk[4]\n",
    "  >>> junk\n",
    "  [3, 7, 9, 10, 17, 21, 24, 27]\n",
    "  >>> del junk[a:b]\n",
    "  >>> junk\n",
    "  [3, 7, 27]\n",
    "\"\"\"\n",
    "junk = [3, 7, 9, 10, 13, 17, 21, 24, 27]\n",
    "del junk[4]\n",
    "print(junk)\n",
    "a = 2\n",
    "b = 7\n",
    "del junk[a:b]\n",
    "print(junk)"
   ]
  },
  {
   "cell_type": "code",
   "execution_count": 94,
   "metadata": {},
   "outputs": [
    {
     "name": "stdout",
     "output_type": "stream",
     "text": [
      "0\n",
      "17\n",
      "5\n"
     ]
    }
   ],
   "source": [
    "\"\"\"\n",
    "  >>> nlist[2][1]\n",
    "  0\n",
    "  >>> nlist[0][2]\n",
    "  17\n",
    "  >>> nlist[1][1]\n",
    "  5\n",
    "\"\"\"\n",
    "nlist = [[17,17,17], [5,5,5], [0,0,0]]\n",
    "print(nlist[2][1])\n",
    "print(nlist[0][2])\n",
    "print(nlist[1][1])"
   ]
  },
  {
   "cell_type": "code",
   "execution_count": 96,
   "metadata": {},
   "outputs": [
    {
     "data": {
      "text/plain": [
       "['this', 'and', 'that']"
      ]
     },
     "execution_count": 96,
     "metadata": {},
     "output_type": "execute_result"
    }
   ],
   "source": [
    "\"\"\"\n",
    "  >>> import string\n",
    "  >>> string.split(message, '??')\n",
    "  ['this', 'and', 'that']\n",
    "\"\"\"\n",
    "import string\n",
    "message = 'this??and??that'\n",
    "message.split('??')"
   ]
  },
  {
   "cell_type": "markdown",
   "metadata": {},
   "source": [
    "###### 7."
   ]
  },
  {
   "cell_type": "code",
   "execution_count": 101,
   "metadata": {},
   "outputs": [
    {
     "data": {
      "text/plain": [
       "2"
      ]
     },
     "execution_count": 101,
     "metadata": {},
     "output_type": "execute_result"
    }
   ],
   "source": [
    "[1, 0][0] + [1, 1][0]"
   ]
  },
  {
   "cell_type": "code",
   "execution_count": 105,
   "metadata": {},
   "outputs": [
    {
     "data": {
      "text/plain": [
       "[13, -4, 13, 5]"
      ]
     },
     "execution_count": 105,
     "metadata": {},
     "output_type": "execute_result"
    }
   ],
   "source": [
    "def add_vectors(u, v):\n",
    "    \"\"\"\n",
    "      >>> add_vectors([1, 0], [1, 1])\n",
    "      [2, 1]\n",
    "      >>> add_vectors([1, 2], [1, 4])\n",
    "      [2, 6]\n",
    "      >>> add_vectors([1, 2, 1], [1, 4, 3])\n",
    "      [2, 6, 4]\n",
    "      >>> add_vectors([11, 0, -4, 5], [2, -4, 17, 0])\n",
    "      [13, -4, 13, 5]\n",
    "    \"\"\"\n",
    "    out = []\n",
    "    for i in range(len(u)):\n",
    "        out += [u[i] + v[i]]\n",
    "    return out\n",
    "\n",
    "add_vectors([11, 0, -4, 5], [2, -4, 17, 0])"
   ]
  },
  {
   "cell_type": "markdown",
   "metadata": {},
   "source": [
    "###### 8. "
   ]
  },
  {
   "cell_type": "code",
   "execution_count": 108,
   "metadata": {},
   "outputs": [
    {
     "data": {
      "text/plain": [
       "[21, 0, 35, 77, 14]"
      ]
     },
     "execution_count": 108,
     "metadata": {},
     "output_type": "execute_result"
    }
   ],
   "source": [
    "def scalar_mult(s, v):\n",
    "    \"\"\"\n",
    "      >>> scalar_mult(5, [1, 2])\n",
    "      [5, 10]\n",
    "      >>> scalar_mult(3, [1, 0, -1])\n",
    "      [3, 0, -3]\n",
    "      >>> scalar_mult(7, [3, 0, 5, 11, 2])\n",
    "      [21, 0, 35, 77, 14]\n",
    "    \"\"\"\n",
    "    out = []\n",
    "    for i in range(len(v)):\n",
    "        out.append(s*v[i])\n",
    "    return out\n",
    "\n",
    "scalar_mult(7, [3, 0, 5, 11, 2])"
   ]
  },
  {
   "cell_type": "markdown",
   "metadata": {},
   "source": [
    "###### 9. "
   ]
  },
  {
   "cell_type": "code",
   "execution_count": 113,
   "metadata": {},
   "outputs": [
    {
     "data": {
      "text/plain": [
       "0"
      ]
     },
     "execution_count": 113,
     "metadata": {},
     "output_type": "execute_result"
    }
   ],
   "source": [
    "def dot_product(u, v):\n",
    "    \"\"\"\n",
    "      >>> dot_product([1, 1], [1, 1])\n",
    "      2\n",
    "      >>> dot_product([1, 2], [1, 4])\n",
    "      9\n",
    "      >>> dot_product([1, 2, 1], [1, 4, 3])\n",
    "      12\n",
    "      >>> dot_product([2, 0, -1, 1], [1, 5, 2, 0])\n",
    "      0\n",
    "    \"\"\"\n",
    "    lst = []\n",
    "    for i in range(len(u)):\n",
    "        lst.append(u[i]*v[i])\n",
    "    out = sum(lst)\n",
    "    return out\n",
    "\n",
    "dot_product([2, 0, -1, 1], [1, 5, 2, 0])"
   ]
  },
  {
   "cell_type": "markdown",
   "metadata": {},
   "source": [
    "###### 10. "
   ]
  },
  {
   "cell_type": "markdown",
   "metadata": {},
   "source": [
    "Extra challenge for the mathematically inclined: Write a function cross_product(u, v) that takes two lists of numbers of length 3 and returns their cross product. You should write your own doctests and use the test driven development process described in the chapter."
   ]
  },
  {
   "cell_type": "code",
   "execution_count": null,
   "metadata": {
    "collapsed": true
   },
   "outputs": [],
   "source": [
    "def cross_product(u, v):\n",
    "    "
   ]
  },
  {
   "cell_type": "markdown",
   "metadata": {},
   "source": [
    "###### 11. "
   ]
  },
  {
   "cell_type": "code",
   "execution_count": 120,
   "metadata": {},
   "outputs": [
    {
     "data": {
      "text/plain": [
       "[[3, 2, 5], [1, 4, 7], [0, 0, 0]]"
      ]
     },
     "execution_count": 120,
     "metadata": {},
     "output_type": "execute_result"
    }
   ],
   "source": [
    "def add_row(matrix):\n",
    "    \"\"\"\n",
    "      >>> m = [[0, 0], [0, 0]]\n",
    "      >>> add_row(m)\n",
    "      [[0, 0], [0, 0], [0, 0]]\n",
    "      >>> n = [[3, 2, 5], [1, 4, 7]]\n",
    "      >>> add_row(n)\n",
    "      [[3, 2, 5], [1, 4, 7], [0, 0, 0]]\n",
    "      >>> n\n",
    "      [[3, 2, 5], [1, 4, 7]]\n",
    "    \"\"\"\n",
    "    if all(len(x) == len(matrix[0]) for x in matrix):\n",
    "        matrix.append([0]*len(matrix[0]))\n",
    "    return matrix\n",
    "\n",
    "m = [[0, 0], [0, 0]]\n",
    "n = [[3, 2, 5], [1, 4, 7]]\n",
    "\n",
    "add_row(n)"
   ]
  },
  {
   "cell_type": "code",
   "execution_count": 127,
   "metadata": {},
   "outputs": [
    {
     "data": {
      "text/plain": [
       "[[3, 2, 0], [5, 1, 0], [4, 7, 0]]"
      ]
     },
     "execution_count": 127,
     "metadata": {},
     "output_type": "execute_result"
    }
   ],
   "source": [
    "def add_column(matrix):\n",
    "    \"\"\"\n",
    "      >>> m = [[0, 0], [0, 0]]\n",
    "      >>> add_column(m)\n",
    "      [[0, 0, 0], [0, 0, 0]]\n",
    "      >>> n = [[3, 2], [5, 1], [4, 7]]\n",
    "      >>> add_column(n)\n",
    "      [[3, 2, 0], [5, 1, 0], [4, 7, 0]]\n",
    "      >>> n\n",
    "      [[3, 2], [5, 1], [4, 7]]\n",
    "    \"\"\"\n",
    "    out = [m+[0] for m in matrix]\n",
    "    return out\n",
    "\n",
    "m = [[0, 0], [0, 0]]\n",
    "n = [[3, 2], [5, 1], [4, 7]]\n",
    "add_column(n)"
   ]
  },
  {
   "cell_type": "markdown",
   "metadata": {},
   "source": [
    "###### 12. "
   ]
  },
  {
   "cell_type": "code",
   "execution_count": 133,
   "metadata": {},
   "outputs": [
    {
     "name": "stdout",
     "output_type": "stream",
     "text": [
      "[[3, 4], [5, 6]]\n",
      "[[11, 4], [12, 6], [15, 19]]\n"
     ]
    }
   ],
   "source": [
    "def add_matrices(m1, m2):\n",
    "    \"\"\"\n",
    "      >>> a = [[1, 2], [3, 4]]\n",
    "      >>> b = [[2, 2], [2, 2]]\n",
    "      >>> add_matrices(a, b)\n",
    "      [[3, 4], [5, 6]]\n",
    "      >>> c = [[8, 2], [3, 4], [5, 7]]\n",
    "      >>> d = [[3, 2], [9, 2], [10, 12]]\n",
    "      >>> add_matrices(c, d)\n",
    "      [[11, 4], [12, 6], [15, 19]]\n",
    "      >>> c\n",
    "      [[8, 2], [3, 4], [5, 7]]\n",
    "      >>> d\n",
    "      [[3, 2], [9, 2], [10, 12]]\n",
    "   \"\"\"\n",
    "    out = m1\n",
    "    for m in range(len(out)):\n",
    "        l = out[m]\n",
    "        l1 = m1[m]\n",
    "        l2 = m2[m]\n",
    "        for n in range(len(l)):\n",
    "            l[n] = l1[n] + l2[n]\n",
    "            \n",
    "    return out\n",
    "            \n",
    "\n",
    "a = [[1, 2], [3, 4]]\n",
    "b = [[2, 2], [2, 2]]\n",
    "print(add_matrices(a, b))\n",
    "\n",
    "c = [[8, 2], [3, 4], [5, 7]]\n",
    "d = [[3, 2], [9, 2], [10, 12]]\n",
    "print(add_matrices(c, d))\n"
   ]
  },
  {
   "cell_type": "markdown",
   "metadata": {},
   "source": [
    "###### 13. "
   ]
  },
  {
   "cell_type": "code",
   "execution_count": 135,
   "metadata": {},
   "outputs": [
    {
     "name": "stdout",
     "output_type": "stream",
     "text": [
      "[[3, 6], [9, 12]]\n",
      "[[30, 50, 70], [10, 10, 10], [0, 20, 0], [20, 20, 30]]\n"
     ]
    }
   ],
   "source": [
    "def scalar_mult(s, m):\n",
    "    \"\"\"\n",
    "      >>> a = [[1, 2], [3, 4]]\n",
    "      >>> scalar_mult(3, a)\n",
    "      [[3, 6], [9, 12]]\n",
    "      >>> b = [[3, 5, 7], [1, 1, 1], [0, 2, 0], [2, 2, 3]]\n",
    "      >>> scalar_mult(10, b)\n",
    "      [[30, 50, 70], [10, 10, 10], [0, 20, 0], [20, 20, 30]]\n",
    "      >>> b\n",
    "      [[3, 5, 7], [1, 1, 1], [0, 2, 0], [2, 2, 3]]\n",
    "    \"\"\"\n",
    "    out = []\n",
    "    for i in m:\n",
    "        out.append([s*j for j in i])\n",
    "    return out\n",
    "\n",
    "a = [[1, 2], [3, 4]]\n",
    "print(scalar_mult(3, a))\n",
    "\n",
    "b = [[3, 5, 7], [1, 1, 1], [0, 2, 0], [2, 2, 3]]\n",
    "print(scalar_mult(10, b))"
   ]
  },
  {
   "cell_type": "markdown",
   "metadata": {},
   "source": [
    "###### 14. "
   ]
  },
  {
   "cell_type": "code",
   "execution_count": 141,
   "metadata": {},
   "outputs": [
    {
     "name": "stdout",
     "output_type": "stream",
     "text": [
      "19\n",
      "22\n",
      "43\n",
      "50\n"
     ]
    }
   ],
   "source": [
    "def row_times_column(m1, row, m2, column):\n",
    "    \"\"\"\n",
    "      >>> row_times_column([[1, 2], [3, 4]], 0, [[5, 6], [7, 8]], 0)\n",
    "      19\n",
    "      >>> row_times_column([[1, 2], [3, 4]], 0, [[5, 6], [7, 8]], 1)\n",
    "      22\n",
    "      >>> row_times_column([[1, 2], [3, 4]], 1, [[5, 6], [7, 8]], 0)\n",
    "      43\n",
    "      >>> row_times_column([[1, 2], [3, 4]], 1, [[5, 6], [7, 8]], 1)\n",
    "      50\n",
    "    \"\"\"\n",
    "    item1 = m1[row]\n",
    "    item2 = [i[column] for i in m2]\n",
    "    \n",
    "    out = []\n",
    "    for i in range(len(item1)):\n",
    "        out.append(item1[i]*item2[i])\n",
    "    return sum(out)\n",
    "\n",
    "print(row_times_column([[1, 2], [3, 4]], 0, [[5, 6], [7, 8]], 0))\n",
    "print(row_times_column([[1, 2], [3, 4]], 0, [[5, 6], [7, 8]], 1))\n",
    "print(row_times_column([[1, 2], [3, 4]], 1, [[5, 6], [7, 8]], 0))\n",
    "print(row_times_column([[1, 2], [3, 4]], 1, [[5, 6], [7, 8]], 1))"
   ]
  },
  {
   "cell_type": "code",
   "execution_count": 171,
   "metadata": {},
   "outputs": [
    {
     "name": "stdout",
     "output_type": "stream",
     "text": [
      "[[19, 22], [43, 50]]\n",
      "[[31, 19], [85, 55]]\n",
      "[[39, 54, 69], [13, 23, 33], [14, 19, 24]]\n"
     ]
    }
   ],
   "source": [
    "def matrix_mult(m1, m2):\n",
    "    \"\"\"\n",
    "      >>> matrix_mult([[1, 2], [3,  4]], [[5, 6], [7, 8]])\n",
    "      [[19, 22], [43, 50]]\n",
    "      >>> matrix_mult([[1, 2, 3], [4,  5, 6]], [[7, 8], [9, 1], [2, 3]])\n",
    "      [[31, 19], [85, 55]]\n",
    "      >>> matrix_mult([[7, 8], [9, 1], [2, 3]], [[1, 2, 3], [4, 5, 6]])\n",
    "      [[39, 54, 69], [13, 23, 33], [14, 19, 24]]\n",
    "    \"\"\"\n",
    "    n = len(m1)\n",
    "    output = []\n",
    "    for row in range(n):\n",
    "        lst = []\n",
    "        for column in range(n):\n",
    "            item1 = m1[row]\n",
    "            item2 = [i[column] for i in m2]\n",
    "            \n",
    "            element = []\n",
    "            for i in range(len(item1)):\n",
    "                element.append(item1[i]*item2[i])\n",
    "            lst.append(sum(element))\n",
    "        output.append(lst)\n",
    "    return output\n",
    "\n",
    "print(matrix_mult([[1, 2], [3,  4]], [[5, 6], [7, 8]]))\n",
    "print(matrix_mult([[1, 2, 3], [4,  5, 6]], [[7, 8], [9, 1], [2, 3]]))\n",
    "print(matrix_mult([[7, 8], [9, 1], [2, 3]], [[1, 2, 3], [4, 5, 6]]))"
   ]
  },
  {
   "cell_type": "markdown",
   "metadata": {},
   "source": [
    "###### 15. "
   ]
  },
  {
   "cell_type": "code",
   "execution_count": 158,
   "metadata": {},
   "outputs": [
    {
     "name": "stdout",
     "output_type": "stream",
     "text": [
      "[4, 6, 8]\n",
      "[2, 4, 6, 8, 10, 0]\n",
      "[]\n",
      "[4, 0, 2, 6, -4]\n",
      "[2, 4]\n"
     ]
    }
   ],
   "source": [
    "def only_evens(numbers):\n",
    "    \"\"\"\n",
    "      >>> only_evens([1, 3, 4, 6, 7, 8])\n",
    "      [4, 6, 8]\n",
    "      >>> only_evens([2, 4, 6, 8, 10, 11, 0])\n",
    "      [2, 4, 6, 8, 10, 0]\n",
    "      >>> only_evens([1, 3, 5, 7, 9, 11])\n",
    "      []\n",
    "      >>> only_evens([4, 0, -1, 2, 6, 7, -4])\n",
    "      [4, 0, 2, 6, -4]\n",
    "      >>> nums = [1, 2, 3, 4]\n",
    "      >>> only_evens(nums)\n",
    "      [2, 4]\n",
    "      >>> nums\n",
    "      [1, 2, 3, 4]\n",
    "    \"\"\"\n",
    "    out = [n for n in numbers if n % 2 == 0]\n",
    "    return out\n",
    "\n",
    "print(only_evens([1, 3, 4, 6, 7, 8]))\n",
    "print(only_evens([2, 4, 6, 8, 10, 11, 0]))\n",
    "print(only_evens([1, 3, 5, 7, 9, 11]))\n",
    "print(only_evens([4, 0, -1, 2, 6, 7, -4]))\n",
    "\n",
    "nums = [1, 2, 3, 4]\n",
    "print(only_evens(nums))"
   ]
  },
  {
   "cell_type": "code",
   "execution_count": 160,
   "metadata": {},
   "outputs": [
    {
     "name": "stdout",
     "output_type": "stream",
     "text": [
      "[1, 3, 7]\n",
      "[11]\n",
      "[1, 3, 5, 7, 9, 11]\n",
      "[-1, 7]\n",
      "[1, 3]\n"
     ]
    }
   ],
   "source": [
    "def only_odds(numbers):\n",
    "    \"\"\"\n",
    "      >>> only_odds([1, 3, 4, 6, 7, 8])\n",
    "      [1, 3, 7]\n",
    "      >>> only_odds([2, 4, 6, 8, 10, 11, 0])\n",
    "      [11]\n",
    "      >>> only_odds([1, 3, 5, 7, 9, 11])\n",
    "      [1, 3, 5, 7, 9, 11]\n",
    "      >>> only_odds([4, 0, -1, 2, 6, 7, -4])\n",
    "      [-1, 7]\n",
    "      >>> nums = [1, 2, 3, 4]\n",
    "      >>> only_odds(nums)\n",
    "      [1, 3]\n",
    "      >>> nums\n",
    "      [1, 2, 3, 4]\n",
    "    \"\"\"\n",
    "    out = [n for n in numbers if n % 2 != 0]\n",
    "    return out\n",
    "\n",
    "print(only_odds([1, 3, 4, 6, 7, 8]))\n",
    "print(only_odds([2, 4, 6, 8, 10, 11, 0]))\n",
    "print(only_odds([1, 3, 5, 7, 9, 11]))\n",
    "print(only_odds([4, 0, -1, 2, 6, 7, -4]))\n",
    "\n",
    "nums = [1, 2, 3, 4]\n",
    "print(only_odds(nums))"
   ]
  },
  {
   "cell_type": "markdown",
   "metadata": {},
   "source": [
    "###### 16. "
   ]
  },
  {
   "cell_type": "code",
   "execution_count": null,
   "metadata": {
    "collapsed": true
   },
   "outputs": [],
   "source": []
  },
  {
   "cell_type": "markdown",
   "metadata": {},
   "source": [
    "###### 17. "
   ]
  },
  {
   "cell_type": "code",
   "execution_count": 166,
   "metadata": {},
   "outputs": [
    {
     "data": {
      "text/plain": [
       "'TheraininSpain...'"
      ]
     },
     "execution_count": 166,
     "metadata": {},
     "output_type": "execute_result"
    }
   ],
   "source": [
    "import string\n",
    "\n",
    "song = \"The rain in Spain...\"\n",
    "\n",
    "('').join(song.split())\n",
    "\n",
    "#string.join(string.split(song)) "
   ]
  },
  {
   "cell_type": "markdown",
   "metadata": {},
   "source": [
    "###### 18. "
   ]
  },
  {
   "cell_type": "code",
   "execution_count": 170,
   "metadata": {},
   "outputs": [
    {
     "name": "stdout",
     "output_type": "stream",
     "text": [
      "MIssIssIppI\n",
      "I love spam!  Spam is my favorite food.  Spam, spam, spam, yum!\n",
      "I lave spam!  Spam is my favarite faad.  Spam, spam, spam, yum!\n"
     ]
    }
   ],
   "source": [
    "def replace(s, old, new):\n",
    "    \"\"\"\n",
    "      >>> replace('Mississippi', 'i', 'I')\n",
    "      'MIssIssIppI'\n",
    "      >>> s = 'I love spom!  Spom is my favorite food.  Spom, spom, spom, yum!'\n",
    "      >>> replace(s, 'om', 'am')\n",
    "      'I love spam!  Spam is my favorite food.  Spam, spam, spam, yum!'\n",
    "      >>> replace(s, 'o', 'a')\n",
    "      'I lave spam!  Spam is my favarite faad.  Spam, spam, spam, yum!'\n",
    "    \"\"\"\n",
    "    while old in s:\n",
    "        i = s.index(old)\n",
    "        s1 = s[:i]\n",
    "        s2 = s[i+len(old):]\n",
    "        s = ('').join([s1,new,s2])\n",
    "    return s\n",
    "\n",
    "print(replace('Mississippi', 'i', 'I'))\n",
    "\n",
    "s = 'I love spom!  Spom is my favorite food.  Spom, spom, spom, yum!'\n",
    "print(replace(s, 'om', 'am'))\n",
    "print(replace(s, 'o', 'a'))"
   ]
  },
  {
   "cell_type": "code",
   "execution_count": null,
   "metadata": {
    "collapsed": true
   },
   "outputs": [],
   "source": []
  }
 ],
 "metadata": {
  "kernelspec": {
   "display_name": "Python 3",
   "language": "python",
   "name": "python3"
  },
  "language_info": {
   "codemirror_mode": {
    "name": "ipython",
    "version": 3
   },
   "file_extension": ".py",
   "mimetype": "text/x-python",
   "name": "python",
   "nbconvert_exporter": "python",
   "pygments_lexer": "ipython3",
   "version": "3.6.3"
  }
 },
 "nbformat": 4,
 "nbformat_minor": 2
}
